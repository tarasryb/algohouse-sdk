{
  "cells": [
    {
      "cell_type": "markdown",
      "metadata": {
        "colab_type": "text",
        "id": "view-in-github"
      },
      "source": [
        "<a href=\"https://colab.research.google.com/github/tarasryb/algohouse_sdk/blob/master/samples/algohouse_sdk_demo.ipynb\" target=\"_parent\"><img src=\"https://colab.research.google.com/assets/colab-badge.svg\" alt=\"Open In Colab\"/></a>"
      ]
    },
    {
      "cell_type": "code",
      "execution_count": 4,
      "metadata": {
        "collapsed": true,
        "id": "kCwTYkgaPdbC"
      },
      "outputs": [
        {
          "name": "stderr",
          "output_type": "stream",
          "text": [
            "Cloning into 'algohouse_sdk'...\n"
          ]
        }
      ],
      "source": [
        "!git clone https://github.com/tarasryb/algohouse_sdk.git"
      ]
    },
    {
      "cell_type": "code",
      "execution_count": null,
      "metadata": {
        "id": "AgVyyTtRQkPu"
      },
      "outputs": [],
      "source": [
        "!wget https://launchpad.net/~mario-mariomedina/+archive/ubuntu/talib/+files/libta-lib0_0.4.0-oneiric1_amd64.deb -qO libta.deb\n",
        "!wget https://launchpad.net/~mario-mariomedina/+archive/ubuntu/talib/+files/ta-lib0-dev_0.4.0-oneiric1_amd64.deb -qO ta.deb\n",
        "!dpkg -i libta.deb ta.deb\n",
        "!pip install ta-lib"
      ]
    },
    {
      "cell_type": "code",
      "execution_count": null,
      "metadata": {
        "id": "Q18c5sqhOxR3"
      },
      "outputs": [],
      "source": [
        "# !wget http://prdownloads.sourceforge.net/ta-lib/ta-lib-0.4.0-src.tar.gz \n",
        "# !tar xvzf ta-lib-0.4.0-src.tar.gz\n",
        "# import os\n",
        "# os.chdir('ta-lib') # Can't use !cd in co-lab\n",
        "# !./configure --prefix=/usr\n",
        "# !make\n",
        "# !make install\n",
        "# os.chdir('../')\n",
        "# !pip install TA-Lib\n"
      ]
    },
    {
      "cell_type": "code",
      "execution_count": 1,
      "metadata": {
        "id": "WT4IxSNoP9RK"
      },
      "outputs": [],
      "source": [
        "import plotly.graph_objects as go\n",
        "from plotly.subplots import make_subplots\n",
        "import plotly.express as px\n",
        "\n",
        "import matplotlib.pyplot as plt\n",
        "from matplotlib.dates import DateFormatter\n",
        "import talib as ta\n",
        "import pandas as pd\n",
        "import requests\n",
        "\n",
        "import sys\n",
        "sys.path.append(\"algohouse_sdk\")\n",
        "import algohouse as ah\n",
        "import ah_settings as ahs"
      ]
    },
    {
      "cell_type": "markdown",
      "metadata": {
        "id": "xMDwFj0gsFzW"
      },
      "source": [
        "# Settings"
      ]
    },
    {
      "cell_type": "code",
      "execution_count": 2,
      "metadata": {
        "id": "tqraD8unb8x6"
      },
      "outputs": [],
      "source": [
        "USER_EMAIL = 'tarasryb@gmail.com'\n",
        "SIGNKEY = '9566c74d10037c4d7bbb0407d1e2c649'\n",
        "\n",
        "exchange = 'binance/f'\n",
        "instrument = 'APEBUSD'  #'1000LUNCBUSD'\n",
        "start_time = '2022-11-01T00:00:00'\n",
        "end_time = '2022-12-30T23:00:00'\n",
        "\n",
        "plotly_theme = \"plotly_dark\"  # \"plotly_white\"\n"
      ]
    },
    {
      "cell_type": "markdown",
      "metadata": {
        "id": "bxmp5oL_seNE"
      },
      "source": [
        "# Reference Data"
      ]
    },
    {
      "cell_type": "code",
      "execution_count": null,
      "metadata": {
        "collapsed": true,
        "id": "7UuiDL0dOHy2"
      },
      "outputs": [],
      "source": [
        "ref_data = ah.get_reference_data()\n",
        "ref_data.head(100)"
      ]
    },
    {
      "cell_type": "code",
      "execution_count": null,
      "metadata": {
        "id": "qUQPJ47mT1FE"
      },
      "outputs": [],
      "source": [
        "bnc_ref = ref_data.loc[ref_data['exchange'] == 'binance/f']\n",
        "(bnc_ref['instruments'].values)"
      ]
    },
    {
      "cell_type": "markdown",
      "metadata": {
        "id": "_tFWkGGasY7s"
      },
      "source": [
        "# Trades Without Aggregation"
      ]
    },
    {
      "cell_type": "code",
      "execution_count": null,
      "metadata": {
        "id": "pCSfnoLLakJg"
      },
      "outputs": [],
      "source": [
        "trades = ah.get_trades(USER_EMAIL, SIGNKEY,\n",
        "                                        instrument=instrument,\n",
        "                                        exchange=exchange,\n",
        "                                        from_time=start_time,\n",
        "                                        to_time=end_time)\n",
        "trades = trades.loc[trades['bs'] == 'S']\n",
        "trades.tail(100)"
      ]
    },
    {
      "cell_type": "code",
      "execution_count": null,
      "metadata": {
        "id": "nmKiM--Dqyx4"
      },
      "outputs": [],
      "source": [
        "fig = make_subplots(specs=[[{\"secondary_y\": True}]])\n",
        "\n",
        "fig.add_trace(\n",
        "    go.Scatter(x=trades['ts'], y=trades['price'], name=\"price\"),\n",
        "    secondary_y=False,\n",
        ")\n",
        "\n",
        "fig.add_trace(\n",
        "    go.Scatter(x=trades['ts'], y=trades['volume'], name=\"volume\"),\n",
        "    secondary_y=True,\n",
        ")\n",
        "\n",
        "fig.update_layout(\n",
        "    title = f\"{instrument} Price & Volume\",\n",
        "    autosize=False,\n",
        "    width=1200,\n",
        "    height=600,\n",
        "    template=plotly_theme,\n",
        "    margin=dict(\n",
        "        l=10,\n",
        "        r=10,\n",
        "        b=10,\n",
        "        t=35,\n",
        "        pad=4\n",
        "    ),\n",
        "    xaxis_rangeslider_visible=False,\n",
        ")\n",
        "fig.update_xaxes(title_text=\"<b>time</b>\")\n",
        "fig.update_yaxes(title_text=\"<b>price</b>\", secondary_y=False)\n",
        "fig.update_yaxes(title_text=\"<b>volume</b>\", secondary_y=True)\n",
        "\n",
        "fig.show()"
      ]
    },
    {
      "cell_type": "markdown",
      "metadata": {
        "id": "gWYT5ChXsKXk"
      },
      "source": [
        "# Aggregated Trades"
      ]
    },
    {
      "cell_type": "code",
      "execution_count": null,
      "metadata": {
        "id": "sfx1Cw5SWyE6"
      },
      "outputs": [],
      "source": [
        "trades_a = ah.get_trades_aggregated(USER_EMAIL, SIGNKEY,\n",
        "                                        instrument=instrument,\n",
        "                                        exchange=exchange,\n",
        "                                        from_time=start_time,\n",
        "                                        to_time=end_time,\n",
        "                                        aggregation='1d')\n",
        "trades_a.head(1000)"
      ]
    },
    {
      "cell_type": "code",
      "execution_count": null,
      "metadata": {
        "id": "_V-0pdo3YBOF"
      },
      "outputs": [],
      "source": [
        "fig = go.Figure(data=[\n",
        "    go.Candlestick(x=trades_a['ts'],\n",
        "                open=trades_a['open'],\n",
        "                high=trades_a['high'],\n",
        "                low=trades_a['low'],\n",
        "                close=trades_a['close'], name=\"OCHL price\")\n",
        "    ])\n",
        "fig.update_layout(\n",
        "    title = f\"{instrument} Price\",\n",
        "    autosize=False,\n",
        "    width=1200,\n",
        "    height=600,\n",
        "    template=plotly_theme,\n",
        "    margin=dict(\n",
        "        l=10,\n",
        "        r=10,\n",
        "        b=10,\n",
        "        t=35,\n",
        "        pad=4\n",
        "    ),\n",
        "    xaxis_rangeslider_visible=False\n",
        ")\n",
        "\n",
        "fig.show()\n"
      ]
    },
    {
      "cell_type": "markdown",
      "metadata": {
        "id": "sv1lZ9tVy81g"
      },
      "source": [
        "# Technical Analysis"
      ]
    },
    {
      "cell_type": "markdown",
      "metadata": {
        "id": "HXczCPPOTYsE"
      },
      "source": [
        "### Get Data"
      ]
    },
    {
      "cell_type": "code",
      "execution_count": 4,
      "metadata": {
        "id": "m7khpE4lymiX"
      },
      "outputs": [],
      "source": [
        "window_start = '2022-11-20T00:00:00'\n",
        "window_end = '2022-12-01T00:00:00'\n",
        "df = ah.get_trades_aggregated(USER_EMAIL, SIGNKEY,\n",
        "                                        instrument=instrument,\n",
        "                                        exchange=exchange,\n",
        "                                        from_time=window_start,\n",
        "                                        to_time=window_end,\n",
        "                                        aggregation='1d')\n"
      ]
    },
    {
      "cell_type": "code",
      "execution_count": 5,
      "metadata": {
        "id": "wU0BBJg01qHQ"
      },
      "outputs": [],
      "source": [
        "ver_window_start = '2022-12-01T00:00:00'\n",
        "ver_window_end = '2022-12-12T00:00:00'\n",
        "ver_df = ah.get_trades_aggregated(USER_EMAIL, SIGNKEY,\n",
        "                                        instrument=instrument,\n",
        "                                        exchange=exchange,\n",
        "                                        from_time=ver_window_start,\n",
        "                                        to_time=ver_window_end,\n",
        "                                        aggregation='1d')\n"
      ]
    },
    {
      "cell_type": "code",
      "execution_count": 6,
      "metadata": {
        "id": "N0kIptQszDf4"
      },
      "outputs": [],
      "source": [
        "open = df['open']\n",
        "high = df['high']\n",
        "low = df['low']\n",
        "close = df['close']\n",
        "volume = df['volume']\n"
      ]
    },
    {
      "cell_type": "markdown",
      "metadata": {},
      "source": [
        "## Momentum Indicators"
      ]
    },
    {
      "cell_type": "markdown",
      "metadata": {},
      "source": [
        "### [RSI - Relative Strength Index](https://www.investopedia.com/terms/r/rsi.asp)"
      ]
    },
    {
      "cell_type": "code",
      "execution_count": 3,
      "metadata": {},
      "outputs": [],
      "source": [
        "rsi_data = ah.get_trades_aggregated(USER_EMAIL, SIGNKEY,\n",
        "                                        instrument=instrument,\n",
        "                                        exchange=exchange,\n",
        "                                        from_time='2022-10-01T00:00:00',\n",
        "                                        to_time='2022-12-31T00:00:00',\n",
        "                                        aggregation='1d')\n",
        "rsi_close = rsi_data['close']\n"
      ]
    },
    {
      "cell_type": "code",
      "execution_count": 8,
      "metadata": {},
      "outputs": [],
      "source": [
        "rsi = ta.RSI(rsi_close, timeperiod=14)\n",
        "# print(rsi)"
      ]
    },
    {
      "cell_type": "code",
      "execution_count": 9,
      "metadata": {},
      "outputs": [
        {
          "data": {
            "application/vnd.plotly.v1+json": {
              "config": {
                "plotlyServerURL": "https://plot.ly"
              },
              "data": [
                {
                  "name": "close",
                  "type": "scatter",
                  "x": [
                    "2022-11-12T00:00:00",
                    "2022-11-13T00:00:00",
                    "2022-11-14T00:00:00",
                    "2022-11-15T00:00:00",
                    "2022-11-16T00:00:00",
                    "2022-11-17T00:00:00",
                    "2022-11-18T00:00:00",
                    "2022-11-19T00:00:00",
                    "2022-11-20T00:00:00",
                    "2022-11-21T00:00:00",
                    "2022-11-22T00:00:00",
                    "2022-11-23T00:00:00",
                    "2022-11-24T00:00:00",
                    "2022-11-25T00:00:00",
                    "2022-11-26T00:00:00",
                    "2022-11-27T00:00:00",
                    "2022-11-28T00:00:00",
                    "2022-11-29T00:00:00",
                    "2022-11-30T00:00:00",
                    "2022-12-01T00:00:00",
                    "2022-12-02T00:00:00",
                    "2022-12-03T00:00:00",
                    "2022-12-04T00:00:00",
                    "2022-12-05T00:00:00",
                    "2022-12-06T00:00:00",
                    "2022-12-07T00:00:00",
                    "2022-12-08T00:00:00",
                    "2022-12-09T00:00:00",
                    "2022-12-10T00:00:00",
                    "2022-12-11T00:00:00",
                    "2022-12-12T00:00:00",
                    "2022-12-13T00:00:00",
                    "2022-12-14T00:00:00",
                    "2022-12-15T00:00:00",
                    "2022-12-16T00:00:00",
                    "2022-12-17T00:00:00",
                    "2022-12-18T00:00:00",
                    "2022-12-19T00:00:00",
                    "2022-12-20T00:00:00",
                    "2022-12-21T00:00:00"
                  ],
                  "xaxis": "x",
                  "y": [
                    2.882,
                    2.868,
                    2.897,
                    2.934,
                    2.976,
                    2.896,
                    3.144,
                    3.176,
                    3.032,
                    3.121,
                    3.265,
                    3.298,
                    3.336,
                    3.228,
                    3.593,
                    3.804,
                    3.711,
                    4.086,
                    4.245,
                    3.891,
                    3.964,
                    3.951,
                    4.001,
                    3.933,
                    4.151,
                    3.98,
                    3.959,
                    3.904,
                    4.114,
                    4.354,
                    4.282,
                    4.078,
                    4.076,
                    3.961,
                    3.46,
                    3.55,
                    3.472,
                    3.462,
                    3.523,
                    3.497
                  ],
                  "yaxis": "y"
                },
                {
                  "name": "RSI",
                  "type": "scatter",
                  "x": [
                    "2022-11-12T00:00:00",
                    "2022-11-13T00:00:00",
                    "2022-11-14T00:00:00",
                    "2022-11-15T00:00:00",
                    "2022-11-16T00:00:00",
                    "2022-11-17T00:00:00",
                    "2022-11-18T00:00:00",
                    "2022-11-19T00:00:00",
                    "2022-11-20T00:00:00",
                    "2022-11-21T00:00:00",
                    "2022-11-22T00:00:00",
                    "2022-11-23T00:00:00",
                    "2022-11-24T00:00:00",
                    "2022-11-25T00:00:00",
                    "2022-11-26T00:00:00",
                    "2022-11-27T00:00:00",
                    "2022-11-28T00:00:00",
                    "2022-11-29T00:00:00",
                    "2022-11-30T00:00:00",
                    "2022-12-01T00:00:00",
                    "2022-12-02T00:00:00",
                    "2022-12-03T00:00:00",
                    "2022-12-04T00:00:00",
                    "2022-12-05T00:00:00",
                    "2022-12-06T00:00:00",
                    "2022-12-07T00:00:00",
                    "2022-12-08T00:00:00",
                    "2022-12-09T00:00:00",
                    "2022-12-10T00:00:00",
                    "2022-12-11T00:00:00",
                    "2022-12-12T00:00:00",
                    "2022-12-13T00:00:00",
                    "2022-12-14T00:00:00",
                    "2022-12-15T00:00:00",
                    "2022-12-16T00:00:00",
                    "2022-12-17T00:00:00",
                    "2022-12-18T00:00:00",
                    "2022-12-19T00:00:00",
                    "2022-12-20T00:00:00",
                    "2022-12-21T00:00:00"
                  ],
                  "xaxis": "x",
                  "y": [
                    null,
                    null,
                    null,
                    null,
                    null,
                    null,
                    null,
                    null,
                    null,
                    null,
                    null,
                    null,
                    null,
                    null,
                    75.33856022808267,
                    78.7760109470108,
                    73.88752523515934,
                    79.43044169865342,
                    81.24800032033933,
                    67.0439048367217,
                    68.2755873453348,
                    67.7897040823209,
                    68.71196977244222,
                    65.9464525463592,
                    70.10107704463013,
                    63.551414305023734,
                    62.77571432915072,
                    60.68647334705018,
                    65.41883361141866,
                    69.88106454846044,
                    67.08440305314566,
                    59.78398687219209,
                    59.71537540002802,
                    55.753195792737905,
                    42.51765097508049,
                    45.04168348560205,
                    43.26843969342774,
                    43.034523165165005,
                    44.98823180889076,
                    44.2909770010153
                  ],
                  "yaxis": "y2"
                }
              ],
              "layout": {
                "autosize": false,
                "height": 600,
                "margin": {
                  "b": 10,
                  "l": 10,
                  "pad": 4,
                  "r": 10,
                  "t": 35
                },
                "template": {
                  "data": {
                    "bar": [
                      {
                        "error_x": {
                          "color": "#f2f5fa"
                        },
                        "error_y": {
                          "color": "#f2f5fa"
                        },
                        "marker": {
                          "line": {
                            "color": "rgb(17,17,17)",
                            "width": 0.5
                          },
                          "pattern": {
                            "fillmode": "overlay",
                            "size": 10,
                            "solidity": 0.2
                          }
                        },
                        "type": "bar"
                      }
                    ],
                    "barpolar": [
                      {
                        "marker": {
                          "line": {
                            "color": "rgb(17,17,17)",
                            "width": 0.5
                          },
                          "pattern": {
                            "fillmode": "overlay",
                            "size": 10,
                            "solidity": 0.2
                          }
                        },
                        "type": "barpolar"
                      }
                    ],
                    "carpet": [
                      {
                        "aaxis": {
                          "endlinecolor": "#A2B1C6",
                          "gridcolor": "#506784",
                          "linecolor": "#506784",
                          "minorgridcolor": "#506784",
                          "startlinecolor": "#A2B1C6"
                        },
                        "baxis": {
                          "endlinecolor": "#A2B1C6",
                          "gridcolor": "#506784",
                          "linecolor": "#506784",
                          "minorgridcolor": "#506784",
                          "startlinecolor": "#A2B1C6"
                        },
                        "type": "carpet"
                      }
                    ],
                    "choropleth": [
                      {
                        "colorbar": {
                          "outlinewidth": 0,
                          "ticks": ""
                        },
                        "type": "choropleth"
                      }
                    ],
                    "contour": [
                      {
                        "colorbar": {
                          "outlinewidth": 0,
                          "ticks": ""
                        },
                        "colorscale": [
                          [
                            0,
                            "#0d0887"
                          ],
                          [
                            0.1111111111111111,
                            "#46039f"
                          ],
                          [
                            0.2222222222222222,
                            "#7201a8"
                          ],
                          [
                            0.3333333333333333,
                            "#9c179e"
                          ],
                          [
                            0.4444444444444444,
                            "#bd3786"
                          ],
                          [
                            0.5555555555555556,
                            "#d8576b"
                          ],
                          [
                            0.6666666666666666,
                            "#ed7953"
                          ],
                          [
                            0.7777777777777778,
                            "#fb9f3a"
                          ],
                          [
                            0.8888888888888888,
                            "#fdca26"
                          ],
                          [
                            1,
                            "#f0f921"
                          ]
                        ],
                        "type": "contour"
                      }
                    ],
                    "contourcarpet": [
                      {
                        "colorbar": {
                          "outlinewidth": 0,
                          "ticks": ""
                        },
                        "type": "contourcarpet"
                      }
                    ],
                    "heatmap": [
                      {
                        "colorbar": {
                          "outlinewidth": 0,
                          "ticks": ""
                        },
                        "colorscale": [
                          [
                            0,
                            "#0d0887"
                          ],
                          [
                            0.1111111111111111,
                            "#46039f"
                          ],
                          [
                            0.2222222222222222,
                            "#7201a8"
                          ],
                          [
                            0.3333333333333333,
                            "#9c179e"
                          ],
                          [
                            0.4444444444444444,
                            "#bd3786"
                          ],
                          [
                            0.5555555555555556,
                            "#d8576b"
                          ],
                          [
                            0.6666666666666666,
                            "#ed7953"
                          ],
                          [
                            0.7777777777777778,
                            "#fb9f3a"
                          ],
                          [
                            0.8888888888888888,
                            "#fdca26"
                          ],
                          [
                            1,
                            "#f0f921"
                          ]
                        ],
                        "type": "heatmap"
                      }
                    ],
                    "heatmapgl": [
                      {
                        "colorbar": {
                          "outlinewidth": 0,
                          "ticks": ""
                        },
                        "colorscale": [
                          [
                            0,
                            "#0d0887"
                          ],
                          [
                            0.1111111111111111,
                            "#46039f"
                          ],
                          [
                            0.2222222222222222,
                            "#7201a8"
                          ],
                          [
                            0.3333333333333333,
                            "#9c179e"
                          ],
                          [
                            0.4444444444444444,
                            "#bd3786"
                          ],
                          [
                            0.5555555555555556,
                            "#d8576b"
                          ],
                          [
                            0.6666666666666666,
                            "#ed7953"
                          ],
                          [
                            0.7777777777777778,
                            "#fb9f3a"
                          ],
                          [
                            0.8888888888888888,
                            "#fdca26"
                          ],
                          [
                            1,
                            "#f0f921"
                          ]
                        ],
                        "type": "heatmapgl"
                      }
                    ],
                    "histogram": [
                      {
                        "marker": {
                          "pattern": {
                            "fillmode": "overlay",
                            "size": 10,
                            "solidity": 0.2
                          }
                        },
                        "type": "histogram"
                      }
                    ],
                    "histogram2d": [
                      {
                        "colorbar": {
                          "outlinewidth": 0,
                          "ticks": ""
                        },
                        "colorscale": [
                          [
                            0,
                            "#0d0887"
                          ],
                          [
                            0.1111111111111111,
                            "#46039f"
                          ],
                          [
                            0.2222222222222222,
                            "#7201a8"
                          ],
                          [
                            0.3333333333333333,
                            "#9c179e"
                          ],
                          [
                            0.4444444444444444,
                            "#bd3786"
                          ],
                          [
                            0.5555555555555556,
                            "#d8576b"
                          ],
                          [
                            0.6666666666666666,
                            "#ed7953"
                          ],
                          [
                            0.7777777777777778,
                            "#fb9f3a"
                          ],
                          [
                            0.8888888888888888,
                            "#fdca26"
                          ],
                          [
                            1,
                            "#f0f921"
                          ]
                        ],
                        "type": "histogram2d"
                      }
                    ],
                    "histogram2dcontour": [
                      {
                        "colorbar": {
                          "outlinewidth": 0,
                          "ticks": ""
                        },
                        "colorscale": [
                          [
                            0,
                            "#0d0887"
                          ],
                          [
                            0.1111111111111111,
                            "#46039f"
                          ],
                          [
                            0.2222222222222222,
                            "#7201a8"
                          ],
                          [
                            0.3333333333333333,
                            "#9c179e"
                          ],
                          [
                            0.4444444444444444,
                            "#bd3786"
                          ],
                          [
                            0.5555555555555556,
                            "#d8576b"
                          ],
                          [
                            0.6666666666666666,
                            "#ed7953"
                          ],
                          [
                            0.7777777777777778,
                            "#fb9f3a"
                          ],
                          [
                            0.8888888888888888,
                            "#fdca26"
                          ],
                          [
                            1,
                            "#f0f921"
                          ]
                        ],
                        "type": "histogram2dcontour"
                      }
                    ],
                    "mesh3d": [
                      {
                        "colorbar": {
                          "outlinewidth": 0,
                          "ticks": ""
                        },
                        "type": "mesh3d"
                      }
                    ],
                    "parcoords": [
                      {
                        "line": {
                          "colorbar": {
                            "outlinewidth": 0,
                            "ticks": ""
                          }
                        },
                        "type": "parcoords"
                      }
                    ],
                    "pie": [
                      {
                        "automargin": true,
                        "type": "pie"
                      }
                    ],
                    "scatter": [
                      {
                        "marker": {
                          "line": {
                            "color": "#283442"
                          }
                        },
                        "type": "scatter"
                      }
                    ],
                    "scatter3d": [
                      {
                        "line": {
                          "colorbar": {
                            "outlinewidth": 0,
                            "ticks": ""
                          }
                        },
                        "marker": {
                          "colorbar": {
                            "outlinewidth": 0,
                            "ticks": ""
                          }
                        },
                        "type": "scatter3d"
                      }
                    ],
                    "scattercarpet": [
                      {
                        "marker": {
                          "colorbar": {
                            "outlinewidth": 0,
                            "ticks": ""
                          }
                        },
                        "type": "scattercarpet"
                      }
                    ],
                    "scattergeo": [
                      {
                        "marker": {
                          "colorbar": {
                            "outlinewidth": 0,
                            "ticks": ""
                          }
                        },
                        "type": "scattergeo"
                      }
                    ],
                    "scattergl": [
                      {
                        "marker": {
                          "line": {
                            "color": "#283442"
                          }
                        },
                        "type": "scattergl"
                      }
                    ],
                    "scattermapbox": [
                      {
                        "marker": {
                          "colorbar": {
                            "outlinewidth": 0,
                            "ticks": ""
                          }
                        },
                        "type": "scattermapbox"
                      }
                    ],
                    "scatterpolar": [
                      {
                        "marker": {
                          "colorbar": {
                            "outlinewidth": 0,
                            "ticks": ""
                          }
                        },
                        "type": "scatterpolar"
                      }
                    ],
                    "scatterpolargl": [
                      {
                        "marker": {
                          "colorbar": {
                            "outlinewidth": 0,
                            "ticks": ""
                          }
                        },
                        "type": "scatterpolargl"
                      }
                    ],
                    "scatterternary": [
                      {
                        "marker": {
                          "colorbar": {
                            "outlinewidth": 0,
                            "ticks": ""
                          }
                        },
                        "type": "scatterternary"
                      }
                    ],
                    "surface": [
                      {
                        "colorbar": {
                          "outlinewidth": 0,
                          "ticks": ""
                        },
                        "colorscale": [
                          [
                            0,
                            "#0d0887"
                          ],
                          [
                            0.1111111111111111,
                            "#46039f"
                          ],
                          [
                            0.2222222222222222,
                            "#7201a8"
                          ],
                          [
                            0.3333333333333333,
                            "#9c179e"
                          ],
                          [
                            0.4444444444444444,
                            "#bd3786"
                          ],
                          [
                            0.5555555555555556,
                            "#d8576b"
                          ],
                          [
                            0.6666666666666666,
                            "#ed7953"
                          ],
                          [
                            0.7777777777777778,
                            "#fb9f3a"
                          ],
                          [
                            0.8888888888888888,
                            "#fdca26"
                          ],
                          [
                            1,
                            "#f0f921"
                          ]
                        ],
                        "type": "surface"
                      }
                    ],
                    "table": [
                      {
                        "cells": {
                          "fill": {
                            "color": "#506784"
                          },
                          "line": {
                            "color": "rgb(17,17,17)"
                          }
                        },
                        "header": {
                          "fill": {
                            "color": "#2a3f5f"
                          },
                          "line": {
                            "color": "rgb(17,17,17)"
                          }
                        },
                        "type": "table"
                      }
                    ]
                  },
                  "layout": {
                    "annotationdefaults": {
                      "arrowcolor": "#f2f5fa",
                      "arrowhead": 0,
                      "arrowwidth": 1
                    },
                    "autotypenumbers": "strict",
                    "coloraxis": {
                      "colorbar": {
                        "outlinewidth": 0,
                        "ticks": ""
                      }
                    },
                    "colorscale": {
                      "diverging": [
                        [
                          0,
                          "#8e0152"
                        ],
                        [
                          0.1,
                          "#c51b7d"
                        ],
                        [
                          0.2,
                          "#de77ae"
                        ],
                        [
                          0.3,
                          "#f1b6da"
                        ],
                        [
                          0.4,
                          "#fde0ef"
                        ],
                        [
                          0.5,
                          "#f7f7f7"
                        ],
                        [
                          0.6,
                          "#e6f5d0"
                        ],
                        [
                          0.7,
                          "#b8e186"
                        ],
                        [
                          0.8,
                          "#7fbc41"
                        ],
                        [
                          0.9,
                          "#4d9221"
                        ],
                        [
                          1,
                          "#276419"
                        ]
                      ],
                      "sequential": [
                        [
                          0,
                          "#0d0887"
                        ],
                        [
                          0.1111111111111111,
                          "#46039f"
                        ],
                        [
                          0.2222222222222222,
                          "#7201a8"
                        ],
                        [
                          0.3333333333333333,
                          "#9c179e"
                        ],
                        [
                          0.4444444444444444,
                          "#bd3786"
                        ],
                        [
                          0.5555555555555556,
                          "#d8576b"
                        ],
                        [
                          0.6666666666666666,
                          "#ed7953"
                        ],
                        [
                          0.7777777777777778,
                          "#fb9f3a"
                        ],
                        [
                          0.8888888888888888,
                          "#fdca26"
                        ],
                        [
                          1,
                          "#f0f921"
                        ]
                      ],
                      "sequentialminus": [
                        [
                          0,
                          "#0d0887"
                        ],
                        [
                          0.1111111111111111,
                          "#46039f"
                        ],
                        [
                          0.2222222222222222,
                          "#7201a8"
                        ],
                        [
                          0.3333333333333333,
                          "#9c179e"
                        ],
                        [
                          0.4444444444444444,
                          "#bd3786"
                        ],
                        [
                          0.5555555555555556,
                          "#d8576b"
                        ],
                        [
                          0.6666666666666666,
                          "#ed7953"
                        ],
                        [
                          0.7777777777777778,
                          "#fb9f3a"
                        ],
                        [
                          0.8888888888888888,
                          "#fdca26"
                        ],
                        [
                          1,
                          "#f0f921"
                        ]
                      ]
                    },
                    "colorway": [
                      "#636efa",
                      "#EF553B",
                      "#00cc96",
                      "#ab63fa",
                      "#FFA15A",
                      "#19d3f3",
                      "#FF6692",
                      "#B6E880",
                      "#FF97FF",
                      "#FECB52"
                    ],
                    "font": {
                      "color": "#f2f5fa"
                    },
                    "geo": {
                      "bgcolor": "rgb(17,17,17)",
                      "lakecolor": "rgb(17,17,17)",
                      "landcolor": "rgb(17,17,17)",
                      "showlakes": true,
                      "showland": true,
                      "subunitcolor": "#506784"
                    },
                    "hoverlabel": {
                      "align": "left"
                    },
                    "hovermode": "closest",
                    "mapbox": {
                      "style": "dark"
                    },
                    "paper_bgcolor": "rgb(17,17,17)",
                    "plot_bgcolor": "rgb(17,17,17)",
                    "polar": {
                      "angularaxis": {
                        "gridcolor": "#506784",
                        "linecolor": "#506784",
                        "ticks": ""
                      },
                      "bgcolor": "rgb(17,17,17)",
                      "radialaxis": {
                        "gridcolor": "#506784",
                        "linecolor": "#506784",
                        "ticks": ""
                      }
                    },
                    "scene": {
                      "xaxis": {
                        "backgroundcolor": "rgb(17,17,17)",
                        "gridcolor": "#506784",
                        "gridwidth": 2,
                        "linecolor": "#506784",
                        "showbackground": true,
                        "ticks": "",
                        "zerolinecolor": "#C8D4E3"
                      },
                      "yaxis": {
                        "backgroundcolor": "rgb(17,17,17)",
                        "gridcolor": "#506784",
                        "gridwidth": 2,
                        "linecolor": "#506784",
                        "showbackground": true,
                        "ticks": "",
                        "zerolinecolor": "#C8D4E3"
                      },
                      "zaxis": {
                        "backgroundcolor": "rgb(17,17,17)",
                        "gridcolor": "#506784",
                        "gridwidth": 2,
                        "linecolor": "#506784",
                        "showbackground": true,
                        "ticks": "",
                        "zerolinecolor": "#C8D4E3"
                      }
                    },
                    "shapedefaults": {
                      "line": {
                        "color": "#f2f5fa"
                      }
                    },
                    "sliderdefaults": {
                      "bgcolor": "#C8D4E3",
                      "bordercolor": "rgb(17,17,17)",
                      "borderwidth": 1,
                      "tickwidth": 0
                    },
                    "ternary": {
                      "aaxis": {
                        "gridcolor": "#506784",
                        "linecolor": "#506784",
                        "ticks": ""
                      },
                      "baxis": {
                        "gridcolor": "#506784",
                        "linecolor": "#506784",
                        "ticks": ""
                      },
                      "bgcolor": "rgb(17,17,17)",
                      "caxis": {
                        "gridcolor": "#506784",
                        "linecolor": "#506784",
                        "ticks": ""
                      }
                    },
                    "title": {
                      "x": 0.05
                    },
                    "updatemenudefaults": {
                      "bgcolor": "#506784",
                      "borderwidth": 0
                    },
                    "xaxis": {
                      "automargin": true,
                      "gridcolor": "#283442",
                      "linecolor": "#506784",
                      "ticks": "",
                      "title": {
                        "standoff": 15
                      },
                      "zerolinecolor": "#283442",
                      "zerolinewidth": 2
                    },
                    "yaxis": {
                      "automargin": true,
                      "gridcolor": "#283442",
                      "linecolor": "#506784",
                      "ticks": "",
                      "title": {
                        "standoff": 15
                      },
                      "zerolinecolor": "#283442",
                      "zerolinewidth": 2
                    }
                  }
                },
                "title": {
                  "text": "APEBUSD RSI"
                },
                "width": 1200,
                "xaxis": {
                  "anchor": "y",
                  "domain": [
                    0,
                    0.94
                  ],
                  "rangeslider": {
                    "visible": false
                  },
                  "title": {
                    "text": "<b>time</b>"
                  }
                },
                "yaxis": {
                  "anchor": "x",
                  "domain": [
                    0,
                    1
                  ],
                  "title": {
                    "text": "<b>price</b>"
                  }
                },
                "yaxis2": {
                  "anchor": "x",
                  "overlaying": "y",
                  "side": "right"
                }
              }
            }
          },
          "metadata": {},
          "output_type": "display_data"
        }
      ],
      "source": [
        "fig = make_subplots(specs=[[{\"secondary_y\": True}]])\n",
        "\n",
        "fig.add_trace(\n",
        "    go.Scatter(x=rsi_data['ts'], y=rsi_data['close'], name=\"close\"),\n",
        "    secondary_y=False,\n",
        ")\n",
        "\n",
        "fig.add_trace(\n",
        "    go.Scatter(x=rsi_data['ts'], y=rsi, name=\"RSI\"),\n",
        "    secondary_y=True,\n",
        ")\n",
        "\n",
        "\n",
        "fig.update_layout(\n",
        "    title = f\"{instrument} RSI\",\n",
        "    autosize=False,\n",
        "    width=1200,\n",
        "    height=600,\n",
        "    template=plotly_theme,\n",
        "    margin=dict(\n",
        "        l=10,\n",
        "        r=10,\n",
        "        b=10,\n",
        "        t=35,\n",
        "        pad=4\n",
        "    ),\n",
        "    xaxis_rangeslider_visible=False,\n",
        ")\n",
        "fig.update_xaxes(title_text=\"<b>time</b>\")\n",
        "fig.update_yaxes(title_text=\"<b>price</b>\", secondary_y=False)\n",
        "# fig.update_yaxes(title_text=\"<b>volume</b>\", secondary_y=True)\n",
        "\n",
        "fig.show()"
      ]
    },
    {
      "cell_type": "markdown",
      "metadata": {
        "id": "rxXZ-vslQiyg"
      },
      "source": [
        "## Volume Indicators"
      ]
    },
    {
      "cell_type": "markdown",
      "metadata": {
        "id": "QC0r3Fwv5UwT"
      },
      "source": [
        "### [AD - Chaikin A/D Line](https://www.investopedia.com/articles/trading/08/accumulation-distribution-line.asp)\n"
      ]
    },
    {
      "cell_type": "code",
      "execution_count": 14,
      "metadata": {
        "id": "i3zWbp1s5S-P"
      },
      "outputs": [
        {
          "name": "stdout",
          "output_type": "stream",
          "text": [
            "0    -3.332824e+06\n",
            "1     1.089594e+06\n",
            "2     1.022658e+07\n",
            "3     9.382426e+06\n",
            "4     8.552210e+06\n",
            "5     7.298971e+06\n",
            "6     1.470044e+07\n",
            "7     2.000587e+07\n",
            "8     8.221248e+06\n",
            "9     4.542684e+06\n",
            "10    7.400684e+06\n",
            "dtype: float64\n"
          ]
        }
      ],
      "source": [
        "ad = ta.AD(high, low, close, volume)\n",
        "print(ad)"
      ]
    },
    {
      "cell_type": "code",
      "execution_count": 18,
      "metadata": {
        "id": "3rJ8IjCb1B9M"
      },
      "outputs": [
        {
          "ename": "ValueError",
          "evalue": "Mime type rendering requires nbformat>=4.2.0 but it is not installed",
          "output_type": "error",
          "traceback": [
            "\u001b[1;31m---------------------------------------------------------------------------\u001b[0m",
            "\u001b[1;31mValueError\u001b[0m                                Traceback (most recent call last)",
            "Cell \u001b[1;32mIn[18], line 37\u001b[0m\n\u001b[0;32m     18\u001b[0m fig\u001b[38;5;241m.\u001b[39mupdate_layout(\n\u001b[0;32m     19\u001b[0m     title \u001b[38;5;241m=\u001b[39m \u001b[38;5;124mf\u001b[39m\u001b[38;5;124m\"\u001b[39m\u001b[38;5;132;01m{\u001b[39;00minstrument\u001b[38;5;132;01m}\u001b[39;00m\u001b[38;5;124m Chaikin A/D Line\u001b[39m\u001b[38;5;124m\"\u001b[39m,\n\u001b[0;32m     20\u001b[0m     autosize\u001b[38;5;241m=\u001b[39m\u001b[38;5;28;01mFalse\u001b[39;00m,\n\u001b[1;32m   (...)\u001b[0m\n\u001b[0;32m     31\u001b[0m     xaxis_rangeslider_visible\u001b[38;5;241m=\u001b[39m\u001b[38;5;28;01mFalse\u001b[39;00m,\n\u001b[0;32m     32\u001b[0m )\n\u001b[0;32m     33\u001b[0m \u001b[38;5;66;03m# fig.update_xaxes(title_text=\"<b>time</b>\")\u001b[39;00m\n\u001b[0;32m     34\u001b[0m \u001b[38;5;66;03m# fig.update_yaxes(title_text=\"<b>volume</b>\", secondary_y=False)\u001b[39;00m\n\u001b[0;32m     35\u001b[0m \u001b[38;5;66;03m# fig.update_yaxes(title_text=\"<b>volume</b>\", secondary_y=True)\u001b[39;00m\n\u001b[1;32m---> 37\u001b[0m \u001b[43mfig\u001b[49m\u001b[38;5;241;43m.\u001b[39;49m\u001b[43mshow\u001b[49m\u001b[43m(\u001b[49m\u001b[43m)\u001b[49m\n",
            "File \u001b[1;32mc:\\ProgramData\\Anaconda3\\envs\\ta\\lib\\site-packages\\plotly\\basedatatypes.py:3398\u001b[0m, in \u001b[0;36mBaseFigure.show\u001b[1;34m(self, *args, **kwargs)\u001b[0m\n\u001b[0;32m   3365\u001b[0m \u001b[39m\"\"\"\u001b[39;00m\n\u001b[0;32m   3366\u001b[0m \u001b[39mShow a figure using either the default renderer(s) or the renderer(s)\u001b[39;00m\n\u001b[0;32m   3367\u001b[0m \u001b[39mspecified by the renderer argument\u001b[39;00m\n\u001b[1;32m   (...)\u001b[0m\n\u001b[0;32m   3394\u001b[0m \u001b[39mNone\u001b[39;00m\n\u001b[0;32m   3395\u001b[0m \u001b[39m\"\"\"\u001b[39;00m\n\u001b[0;32m   3396\u001b[0m \u001b[39mimport\u001b[39;00m \u001b[39mplotly\u001b[39;00m\u001b[39m.\u001b[39;00m\u001b[39mio\u001b[39;00m \u001b[39mas\u001b[39;00m \u001b[39mpio\u001b[39;00m\n\u001b[1;32m-> 3398\u001b[0m \u001b[39mreturn\u001b[39;00m pio\u001b[39m.\u001b[39mshow(\u001b[39mself\u001b[39m, \u001b[39m*\u001b[39margs, \u001b[39m*\u001b[39m\u001b[39m*\u001b[39mkwargs)\n",
            "File \u001b[1;32mc:\\ProgramData\\Anaconda3\\envs\\ta\\lib\\site-packages\\plotly\\io\\_renderers.py:396\u001b[0m, in \u001b[0;36mshow\u001b[1;34m(fig, renderer, validate, **kwargs)\u001b[0m\n\u001b[0;32m    391\u001b[0m         \u001b[39mraise\u001b[39;00m \u001b[39mValueError\u001b[39;00m(\n\u001b[0;32m    392\u001b[0m             \u001b[39m\"\u001b[39m\u001b[39mMime type rendering requires ipython but it is not installed\u001b[39m\u001b[39m\"\u001b[39m\n\u001b[0;32m    393\u001b[0m         )\n\u001b[0;32m    395\u001b[0m     \u001b[39mif\u001b[39;00m \u001b[39mnot\u001b[39;00m nbformat \u001b[39mor\u001b[39;00m LooseVersion(nbformat\u001b[39m.\u001b[39m__version__) \u001b[39m<\u001b[39m LooseVersion(\u001b[39m\"\u001b[39m\u001b[39m4.2.0\u001b[39m\u001b[39m\"\u001b[39m):\n\u001b[1;32m--> 396\u001b[0m         \u001b[39mraise\u001b[39;00m \u001b[39mValueError\u001b[39;00m(\n\u001b[0;32m    397\u001b[0m             \u001b[39m\"\u001b[39m\u001b[39mMime type rendering requires nbformat>=4.2.0 but it is not installed\u001b[39m\u001b[39m\"\u001b[39m\n\u001b[0;32m    398\u001b[0m         )\n\u001b[0;32m    400\u001b[0m     ipython_display\u001b[39m.\u001b[39mdisplay(bundle, raw\u001b[39m=\u001b[39m\u001b[39mTrue\u001b[39;00m)\n\u001b[0;32m    402\u001b[0m \u001b[39m# external renderers\u001b[39;00m\n",
            "\u001b[1;31mValueError\u001b[0m: Mime type rendering requires nbformat>=4.2.0 but it is not installed"
          ]
        }
      ],
      "source": [
        "fig = make_subplots(specs=[[{\"secondary_y\": True}]])\n",
        "\n",
        "fig.add_trace(\n",
        "    go.Scatter(x=df['ts'], y=df['volume'], name=\"volume\"),\n",
        "    secondary_y=False,\n",
        ")\n",
        "\n",
        "fig.add_trace(\n",
        "    go.Scatter(x=ver_df['ts'], y=ver_df['volume'], name=\"verification volume\"),\n",
        "    secondary_y=False,\n",
        ")\n",
        "\n",
        "fig.add_trace(\n",
        "    go.Scatter(x=ver_df['ts'], y=ad, name=\"AD volume\"),\n",
        "    secondary_y=False,\n",
        ")\n",
        "\n",
        "fig.update_layout(\n",
        "    title = f\"{instrument} Chaikin A/D Line\",\n",
        "    autosize=False,\n",
        "    width=1200,\n",
        "    height=600,\n",
        "    template=plotly_theme,\n",
        "    margin=dict(\n",
        "        l=10,\n",
        "        r=10,\n",
        "        b=10,\n",
        "        t=35,\n",
        "        pad=4\n",
        "    ),\n",
        "    xaxis_rangeslider_visible=False,\n",
        ")\n",
        "fig.update_xaxes(title_text=\"<b>time</b>\")\n",
        "fig.update_yaxes(title_text=\"<b>volume</b>\", secondary_y=False)\n",
        "# fig.update_yaxes(title_text=\"<b>volume</b>\", secondary_y=True)\n",
        "\n",
        "fig.show()"
      ]
    },
    {
      "cell_type": "markdown",
      "metadata": {
        "id": "T1v1z7Ko6fby"
      },
      "source": [
        "### [ADOSC - Chaikin A/D Oscillator](https://www.investopedia.com/articles/active-trading/031914/understanding-chaikin-oscillator.asp)"
      ]
    },
    {
      "cell_type": "code",
      "execution_count": null,
      "metadata": {
        "id": "Dh53-iAF0Vd0"
      },
      "outputs": [],
      "source": [
        "adosc = ta.ADOSC(high, low, close, volume, fastperiod=3, slowperiod=10)\n",
        "print(adosc)"
      ]
    },
    {
      "cell_type": "code",
      "execution_count": null,
      "metadata": {
        "id": "eaKcUEBJ048K"
      },
      "outputs": [],
      "source": [
        "fig = make_subplots(specs=[[{\"secondary_y\": True}]])\n",
        "\n",
        "fig.add_trace(\n",
        "    go.Scatter(x=df['ts'], y=df['volume'], name=\"volume\"),\n",
        "    secondary_y=False,\n",
        ")\n",
        "\n",
        "fig.add_trace(\n",
        "    go.Scatter(x=ver_df['ts'], y=ver_df['volume'], name=\"verification volume\"),\n",
        "    secondary_y=False,\n",
        ")\n",
        "\n",
        "fig.add_trace(\n",
        "    go.Scatter(x=df['ts'], y=adosc, name=\"Chaikin A/D Oscillator\"),\n",
        "    secondary_y=True,\n",
        ")\n",
        "\n",
        "fig.update_layout(\n",
        "    title = f\"{instrument} Chaikin A/D Oscillator\",\n",
        "    autosize=False,\n",
        "    width=1200,\n",
        "    height=600,\n",
        "    template=plotly_theme,\n",
        "    margin=dict(\n",
        "        l=10,\n",
        "        r=10,\n",
        "        b=10,\n",
        "        t=35,\n",
        "        pad=4\n",
        "    ),\n",
        "    xaxis_rangeslider_visible=False,\n",
        ")\n",
        "fig.update_xaxes(title_text=\"<b>time</b>\")\n",
        "fig.update_yaxes(title_text=\"<b>Volume</b>\", secondary_y=False)\n",
        "fig.update_yaxes(title_text=\"<b>Chaikin A/D Oscillator</b>\", secondary_y=True)\n",
        "\n",
        "fig.show()"
      ]
    },
    {
      "cell_type": "markdown",
      "metadata": {
        "id": "ioUtZl3q8vf3"
      },
      "source": [
        "###  [OBV - On Balance Volume](https://www.investopedia.com/terms/o/onbalancevolume.asp)"
      ]
    },
    {
      "cell_type": "code",
      "execution_count": null,
      "metadata": {
        "id": "M2R1Gk4Z71Sw"
      },
      "outputs": [],
      "source": [
        "ovb = ta.OBV(close, volume)\n",
        "# print(ovb)"
      ]
    },
    {
      "cell_type": "code",
      "execution_count": null,
      "metadata": {
        "id": "cEg0K3Fa-dFV"
      },
      "outputs": [],
      "source": [
        "ver_price_df = ah.get_trades_aggregated(USER_EMAIL, SIGNKEY,\n",
        "                                        instrument=instrument,\n",
        "                                        exchange=exchange,\n",
        "                                        from_time=window_start,\n",
        "                                        to_time=ver_window_end,\n",
        "                                        aggregation='1d')\n"
      ]
    },
    {
      "cell_type": "code",
      "execution_count": null,
      "metadata": {
        "id": "0ztuclg383pq"
      },
      "outputs": [],
      "source": [
        "fig = make_subplots(specs=[[{\"secondary_y\": True}]])\n",
        "\n",
        "fig.add_trace(\n",
        "    go.Scatter(x=df['ts'], y=df['volume'], name=\"volume\"),\n",
        "    secondary_y=False,\n",
        ")\n",
        "\n",
        "# fig.add_trace(\n",
        "#     go.Scatter(x=ver_df['ts'], y=ver_df['volume'], name=\"verification volume\"),\n",
        "#     secondary_y=False,\n",
        "# )\n",
        "\n",
        "fig.add_trace(\n",
        "    go.Scatter(x=ver_price_df['ts'], y=ver_price_df['close'], name=\"verification price\"),\n",
        "    secondary_y=True,\n",
        ")\n",
        "\n",
        "fig.add_trace(\n",
        "    go.Scatter(x=df['ts'], y=ovb, name=\"OVB volume\"),\n",
        "    secondary_y=False,\n",
        ")\n",
        "\n",
        "fig.update_layout(\n",
        "    title = f\"{instrument} On Balance Volume\",\n",
        "    autosize=False,\n",
        "    width=1200,\n",
        "    height=600,\n",
        "    template=plotly_theme,\n",
        "    margin=dict(\n",
        "        l=10,\n",
        "        r=10,\n",
        "        b=10,\n",
        "        t=35,\n",
        "        pad=4\n",
        "    ),\n",
        "    xaxis_rangeslider_visible=False,\n",
        ")\n",
        "fig.update_xaxes(title_text=\"<b>time</b>\")\n",
        "fig.update_yaxes(title_text=\"<b>volume</b>\", secondary_y=False)\n",
        "fig.update_yaxes(title_text=\"<b>price</b>\", secondary_y=True)\n",
        "\n",
        "fig.show()"
      ]
    },
    {
      "cell_type": "markdown",
      "metadata": {
        "id": "MHR9XgrmS6qk"
      },
      "source": [
        "### Basic Indicators\n",
        "* [ADV - Average Daily Value Traded*](https://www.investopedia.com/terms/a/averagedailytradingvolume.asp)\n",
        "* MA - Moving Average"
      ]
    },
    {
      "cell_type": "code",
      "execution_count": null,
      "metadata": {
        "id": "vB3Oz_EJTI6i"
      },
      "outputs": [],
      "source": [
        "idc = pd.DataFrame()\n",
        "idc['ts'] = df['ts'] \n",
        "idc['volume'] = df['volume'] \n",
        "idc['ADV5d'] = df['volume'].rolling(window=5).mean().shift(1)\n",
        "idc['ADV21d'] = df['volume'].rolling(window=21).mean().shift(1)\n",
        "idc['MA1w'] = ta.MA(close, timeperiod=7, matype=0)\n",
        "idc['MA3w'] = ta.MA(close, timeperiod=7*3, matype=0)\n",
        "idc['VWAP'] = pd.Series(ta.WMA(close, timeperiod=24)) * df['volume']\n",
        "# idc.head()"
      ]
    },
    {
      "cell_type": "code",
      "execution_count": null,
      "metadata": {
        "id": "qz_X1HhsZNSn"
      },
      "outputs": [],
      "source": [
        "fig = make_subplots(specs=[[{\"secondary_y\": True}]])\n",
        "\n",
        "fig.add_trace(\n",
        "    \n",
        "    go.Candlestick(x=df['ts'],\n",
        "                open=df['open'],\n",
        "                high=df['high'],\n",
        "                low=df['low'],\n",
        "                close=df['close'], name=\"OCHL price\"),\n",
        "\n",
        "    secondary_y=False,\n",
        "\n",
        "\n",
        ")\n",
        "\n",
        "fig.add_trace(\n",
        "    go.Scatter(x=idc['ts'], y=idc['volume'], name=\"volume\", mode = 'lines'),\n",
        "    secondary_y=True,\n",
        ")\n",
        "\n",
        "fig.add_trace(\n",
        "    go.Scatter(x=idc['ts'], y=idc['ADV5d'], name=\"ADV 5d\", mode = 'lines'),\n",
        "    secondary_y=True,\n",
        ")\n",
        "\n",
        "fig.add_trace(\n",
        "    go.Scatter(x=idc['ts'], y=idc['ADV21d'], name=\"ADV 21d\", mode = 'lines'),\n",
        "    secondary_y=True,\n",
        ")\n",
        "\n",
        "fig.add_trace(\n",
        "    go.Scatter(x=idc['ts'], y=idc['MA1w'], name=\"MA 1w\", mode = 'lines+markers'),\n",
        "    secondary_y=False,\n",
        ")\n",
        "\n",
        "fig.add_trace(\n",
        "    go.Scatter(x=idc['ts'], y=idc['MA3w'], name=\"MA 3w\", mode = 'lines+markers'),\n",
        "    secondary_y=False,\n",
        ")\n",
        "\n",
        "fig.add_trace(\n",
        "    go.Scatter(x=idc['ts'], y=idc['VWAP'], name=\"VWAP\", mode = 'lines+markers'),\n",
        "    secondary_y=True,\n",
        ")\n",
        "\n",
        "fig.update_layout(\n",
        "    title = f\"{instrument} Basic Indicators\",\n",
        "    autosize=False,\n",
        "    width=1200,\n",
        "    height=600,\n",
        "    template=plotly_theme,\n",
        "    margin=dict(\n",
        "        l=10,\n",
        "        r=10,\n",
        "        b=10,\n",
        "        t=35,\n",
        "        pad=4\n",
        "    ),\n",
        "    xaxis_rangeslider_visible=False,\n",
        ")\n",
        "fig.update_xaxes(title_text=\"<b>time</b>\")\n",
        "fig.update_yaxes(title_text=\"<b>price</b>\", secondary_y=False)\n",
        "fig.update_yaxes(title_text=\"<b>ATR</b>\", secondary_y=True)\n",
        "\n",
        "fig.show()"
      ]
    },
    {
      "cell_type": "markdown",
      "metadata": {
        "id": "qnRD4pDpQOIu"
      },
      "source": [
        "## Volatility Indicators"
      ]
    },
    {
      "cell_type": "code",
      "execution_count": null,
      "metadata": {
        "id": "ZQo8qUOVHi0e"
      },
      "outputs": [],
      "source": [
        "window_start = '2022-11-01T00:00:00'\n",
        "window_end = '2022-12-12T00:00:00'\n",
        "df = ah.get_trades_aggregated(USER_EMAIL, SIGNKEY,\n",
        "                                        instrument=instrument,\n",
        "                                        exchange=exchange,\n",
        "                                        from_time=window_start,\n",
        "                                        to_time=window_end,\n",
        "                                        aggregation='1d')\n",
        "open = df['open']\n",
        "high = df['high']\n",
        "low = df['low']\n",
        "close = df['close']\n",
        "volume = df['volume']\n"
      ]
    },
    {
      "cell_type": "markdown",
      "metadata": {
        "id": "EFKu_7JbG0v2"
      },
      "source": [
        "### [ATR - Average True Range](https://www.investopedia.com/terms/a/atr.asp)"
      ]
    },
    {
      "cell_type": "code",
      "execution_count": null,
      "metadata": {
        "id": "8yuVDXFR9IzJ"
      },
      "outputs": [],
      "source": [
        "atr = ta.ATR(high, low, close, timeperiod=14)\n",
        "# print(atr)"
      ]
    },
    {
      "cell_type": "code",
      "execution_count": null,
      "metadata": {
        "id": "OBWVGRyiHPAH"
      },
      "outputs": [],
      "source": [
        "fig = make_subplots(specs=[[{\"secondary_y\": True}]])\n",
        "\n",
        "fig.add_trace(\n",
        "    \n",
        "    # go.Scatter(x=df['ts'], y=df['close'], name=\"volume\"),\n",
        "\n",
        "    go.Candlestick(x=trades_a['ts'],\n",
        "                open=trades_a['open'],\n",
        "                high=trades_a['high'],\n",
        "                low=trades_a['low'],\n",
        "                close=trades_a['close'], name=\"OCHL price\"),\n",
        "\n",
        "    secondary_y=False,\n",
        "\n",
        "\n",
        ")\n",
        "\n",
        "fig.add_trace(\n",
        "    go.Scatter(x=df['ts'], y=atr, name=\"ATR\", mode = 'lines+markers'),\n",
        "    secondary_y=True,\n",
        ")\n",
        "\n",
        "\n",
        "fig.update_layout(\n",
        "    title = f\"{instrument} Average True Range Indicator\",\n",
        "    autosize=False,\n",
        "    width=1200,\n",
        "    height=600,\n",
        "    template=plotly_theme,\n",
        "    margin=dict(\n",
        "        l=10,\n",
        "        r=10,\n",
        "        b=10,\n",
        "        t=35,\n",
        "        pad=4\n",
        "    ),\n",
        "    xaxis_rangeslider_visible=False,\n",
        ")\n",
        "fig.update_xaxes(title_text=\"<b>time</b>\")\n",
        "fig.update_yaxes(title_text=\"<b>price</b>\", secondary_y=False)\n",
        "fig.update_yaxes(title_text=\"<b>ATR</b>\", secondary_y=True)\n",
        "\n",
        "fig.show()"
      ]
    },
    {
      "cell_type": "markdown",
      "metadata": {
        "id": "ujY8dqFEKvG_"
      },
      "source": [
        "### [NATR - Normalized Average True Range](https://support.atas.net/en/knowledge-bases/2/articles/43436-atr-normalized)"
      ]
    },
    {
      "cell_type": "code",
      "execution_count": null,
      "metadata": {
        "id": "uRzUlm4jJFFv"
      },
      "outputs": [],
      "source": [
        "natr = ta.NATR(high, low, close, timeperiod=14)\n",
        "# print(natr)"
      ]
    },
    {
      "cell_type": "code",
      "execution_count": null,
      "metadata": {
        "id": "z1MPCQ9YLYP2"
      },
      "outputs": [],
      "source": [
        "fig = make_subplots(specs=[[{\"secondary_y\": True}]])\n",
        "\n",
        "fig.add_trace(\n",
        "    \n",
        "    # go.Scatter(x=df['ts'], y=df['close'], name=\"volume\"),\n",
        "\n",
        "    go.Candlestick(x=trades_a['ts'],\n",
        "                open=trades_a['open'],\n",
        "                high=trades_a['high'],\n",
        "                low=trades_a['low'],\n",
        "                close=trades_a['close'], name=\"OCHL price\"),\n",
        "\n",
        "    secondary_y=False,\n",
        "\n",
        "\n",
        ")\n",
        "\n",
        "fig.add_trace(\n",
        "    go.Scatter(x=df['ts'], y=natr, name=\"NATR\", mode = 'lines+markers'),\n",
        "    secondary_y=True,\n",
        ")\n",
        "\n",
        "\n",
        "fig.update_layout(\n",
        "    title = f\"{instrument} Normalized Average True Range Indicator\",\n",
        "    autosize=False,\n",
        "    width=1200,\n",
        "    height=600,\n",
        "    template=plotly_theme,\n",
        "    margin=dict(\n",
        "        l=10,\n",
        "        r=10,\n",
        "        b=10,\n",
        "        t=35,\n",
        "        pad=4\n",
        "    ),\n",
        "    xaxis_rangeslider_visible=False,\n",
        ")\n",
        "fig.update_xaxes(title_text=\"<b>time</b>\")\n",
        "fig.update_yaxes(title_text=\"<b>price</b>\", secondary_y=False)\n",
        "fig.update_yaxes(title_text=\"<b>NATR</b>\", secondary_y=True)\n",
        "\n",
        "fig.show()"
      ]
    },
    {
      "cell_type": "markdown",
      "metadata": {
        "id": "eP1C3zsYL7z1"
      },
      "source": [
        "### [TRANGE - True Range](https://support.atas.net/en/knowledge-bases/2/articles/45183-true-range)"
      ]
    },
    {
      "cell_type": "code",
      "execution_count": null,
      "metadata": {
        "id": "ALO1875SLYwE"
      },
      "outputs": [],
      "source": [
        "trange = ta.TRANGE(high, low, close)\n",
        "# print(trange)"
      ]
    },
    {
      "cell_type": "code",
      "execution_count": null,
      "metadata": {
        "id": "aKn9jWHNMzFp"
      },
      "outputs": [],
      "source": [
        "fig = make_subplots(specs=[[{\"secondary_y\": True}]])\n",
        "\n",
        "fig.add_trace(\n",
        "    \n",
        "    # go.Scatter(x=df['ts'], y=df['close'], name=\"volume\"),\n",
        "\n",
        "    go.Candlestick(x=trades_a['ts'],\n",
        "                open=trades_a['open'],\n",
        "                high=trades_a['high'],\n",
        "                low=trades_a['low'],\n",
        "                close=trades_a['close'], name=\"OCHL price\"),\n",
        "\n",
        "    secondary_y=False,\n",
        "\n",
        "\n",
        ")\n",
        "\n",
        "fig.add_trace(\n",
        "    go.Scatter(x=df['ts'], y=trange, name=\"TRANGE\", mode = 'lines+markers'),\n",
        "    secondary_y=True,\n",
        ")\n",
        "\n",
        "\n",
        "fig.update_layout(\n",
        "    title = f\"{instrument} True Range Indicator\",\n",
        "    autosize=False,\n",
        "    width=1200,\n",
        "    height=600,\n",
        "    template=plotly_theme,\n",
        "    margin=dict(\n",
        "        l=10,\n",
        "        r=10,\n",
        "        b=10,\n",
        "        t=35,\n",
        "        pad=4\n",
        "    ),\n",
        "    xaxis_rangeslider_visible=False,\n",
        ")\n",
        "fig.update_xaxes(title_text=\"<b>time</b>\")\n",
        "fig.update_yaxes(title_text=\"<b>price</b>\", secondary_y=False)\n",
        "fig.update_yaxes(title_text=\"<b>TRANGE</b>\", secondary_y=True)\n",
        "\n",
        "fig.show()"
      ]
    },
    {
      "cell_type": "markdown",
      "metadata": {
        "id": "NMnOVDTLOXZq"
      },
      "source": [
        "## Price Transform Functions\n",
        "* AVGPRICE - Average Price\n",
        "* MEDPRICE - Median Price\n",
        "* TYPPRICE - Typical Price\n",
        "* WCLPRICE - Weighted Close Price\n"
      ]
    },
    {
      "cell_type": "code",
      "execution_count": null,
      "metadata": {
        "id": "pClfDUKfM_rp"
      },
      "outputs": [],
      "source": [
        "avgprice = ta.AVGPRICE(open, high, low, close)\n",
        "medprice = ta.MEDPRICE(high, low)\n",
        "typprice = ta.TYPPRICE(high, low, close)\n",
        "wclprice = ta.WCLPRICE(high, low, close)"
      ]
    },
    {
      "cell_type": "code",
      "execution_count": null,
      "metadata": {
        "id": "RSl8NOKSO8kf"
      },
      "outputs": [],
      "source": [
        "fig = make_subplots(specs=[[{\"secondary_y\": True}]])\n",
        "\n",
        "fig.add_trace(\n",
        "    \n",
        "    # go.Scatter(x=df['ts'], y=df['close'], name=\"volume\"),\n",
        "\n",
        "    go.Candlestick(x=trades_a['ts'],\n",
        "                open=trades_a['open'],\n",
        "                high=trades_a['high'],\n",
        "                low=trades_a['low'],\n",
        "                close=trades_a['close'], name=\"OCHL price\"),\n",
        "\n",
        "    secondary_y=False,\n",
        "\n",
        "\n",
        ")\n",
        "\n",
        "fig.add_trace(\n",
        "    go.Scatter(x=df['ts'], y=avgprice, name=\"AVGPRICE\", mode = 'lines+markers'),\n",
        "    secondary_y=False,\n",
        ")\n",
        "\n",
        "fig.add_trace(\n",
        "    go.Scatter(x=df['ts'], y=medprice, name=\"MEDPRICE\", mode = 'lines+markers'),\n",
        "    secondary_y=False,\n",
        ")\n",
        "\n",
        "fig.add_trace(\n",
        "    go.Scatter(x=df['ts'], y=typprice, name=\"TYPPRICE\", mode = 'lines+markers'),\n",
        "    secondary_y=False,\n",
        ")\n",
        "\n",
        "fig.add_trace(\n",
        "    go.Scatter(x=df['ts'], y=wclprice, name=\"WCLPRICE\", mode = 'lines+markers'),\n",
        "    secondary_y=False,\n",
        ")\n",
        "\n",
        "\n",
        "fig.update_layout(\n",
        "    title = f\"{instrument} Price Transform Functions\",\n",
        "    autosize=False,\n",
        "    width=1200,\n",
        "    height=600,\n",
        "    template=plotly_theme,\n",
        "    margin=dict(\n",
        "        l=10,\n",
        "        r=10,\n",
        "        b=10,\n",
        "        t=35,\n",
        "        pad=4\n",
        "    ),\n",
        "    xaxis_rangeslider_visible=False,\n",
        ")\n",
        "fig.update_xaxes(title_text=\"<b>time</b>\")\n",
        "fig.update_yaxes(title_text=\"<b>price</b>\", secondary_y=False)\n",
        "# fig.update_yaxes(title_text=\"<b>TRANGE</b>\", secondary_y=True)\n",
        "\n",
        "fig.show()"
      ]
    },
    {
      "cell_type": "code",
      "execution_count": null,
      "metadata": {
        "id": "10wxLNLDPZCP"
      },
      "outputs": [],
      "source": []
    },
    {
      "cell_type": "markdown",
      "metadata": {
        "id": "JUr65f3eQ4Ka"
      },
      "source": [
        "# Order book"
      ]
    },
    {
      "cell_type": "markdown",
      "metadata": {
        "id": "UWX5svF6Gvzb"
      },
      "source": [
        "#### Reset orderbook cache"
      ]
    },
    {
      "cell_type": "code",
      "execution_count": null,
      "metadata": {
        "id": "s7YWazjGF5Pr"
      },
      "outputs": [],
      "source": [
        "import orderbook\n",
        "orderbook.df_n_cached = None"
      ]
    },
    {
      "cell_type": "markdown",
      "metadata": {
        "id": "eaonQmzCG6tV"
      },
      "source": [
        "#### Settings"
      ]
    },
    {
      "cell_type": "code",
      "execution_count": null,
      "metadata": {
        "id": "hS7-Kwt8RYqI"
      },
      "outputs": [],
      "source": [
        "USER_EMAIL = 'tarasryb@gmail.com'\n",
        "SIGNKEY = '9566c74d10037c4d7bbb0407d1e2c649'\n",
        "\n",
        "exchange = 'binance/f'\n",
        "instrument = 'LITUSDT'  #'BTCUSDT'#'ETHUSDT'\n",
        "start_time = '2022-12-09T10:00:00'\n",
        "ahs.ORDER_LINES_TO_READ = 200\n",
        "# ahs.FILTER_BAD_PRICES = False\n",
        "\n",
        "plotly_theme = \"plotly_dark\"  # \"plotly_white\"\n"
      ]
    },
    {
      "cell_type": "markdown",
      "metadata": {
        "id": "c_uZYFRb_nw6"
      },
      "source": [
        "#### Get Orderbook Data"
      ]
    },
    {
      "cell_type": "code",
      "execution_count": null,
      "metadata": {
        "id": "REmvetdnRDDB"
      },
      "outputs": [],
      "source": [
        "md, md_c = ah.get_orderbook(USER_EMAIL, SIGNKEY,\n",
        "                                        instrument=instrument,\n",
        "                                        exchange=exchange,\n",
        "                                        from_time=start_time,\n",
        "                                        levels=None)"
      ]
    },
    {
      "cell_type": "code",
      "execution_count": null,
      "metadata": {
        "id": "dBZLCbU9HlI3"
      },
      "outputs": [],
      "source": [
        "bid = md_c['bid']\n",
        "ask = md_c['ask']"
      ]
    },
    {
      "cell_type": "code",
      "execution_count": null,
      "metadata": {
        "id": "bJqU6JycOvi5"
      },
      "outputs": [],
      "source": [
        "fig = make_subplots(specs=[[{\"secondary_y\": True}]])\n",
        "\n",
        "fig.add_trace(\n",
        "    go.Scatter(x=bid['price'], y=bid['size'], name=\"bid\", fill='tozeroy'),\n",
        "    secondary_y=False,\n",
        ")\n",
        "\n",
        "fig.add_trace(\n",
        "    go.Scatter(x=ask['price'], y=ask['size'], name=\"ask\", fill='tozeroy'),\n",
        "    secondary_y=False,\n",
        ")\n",
        "\n",
        "\n",
        "\n",
        "fig.update_layout(\n",
        "    title = f\"{exchange} : {instrument} Market Depth at {start_time}\",\n",
        "    autosize=False,\n",
        "    width=1200,\n",
        "    height=600,\n",
        "    template=plotly_theme,\n",
        "    margin=dict(\n",
        "        l=10,\n",
        "        r=10,\n",
        "        b=10,\n",
        "        t=35,\n",
        "        pad=4\n",
        "    ),\n",
        "    xaxis_rangeslider_visible=False,\n",
        ")\n",
        "fig.update_xaxes(title_text=\"<b>Price Level</b>\")\n",
        "fig.update_yaxes(title_text=\"<b>Size</b>\", secondary_y=False)\n",
        "\n",
        "fig.show()"
      ]
    },
    {
      "cell_type": "code",
      "execution_count": null,
      "metadata": {
        "id": "f6zLnY0tIPiq"
      },
      "outputs": [],
      "source": [
        "ask"
      ]
    },
    {
      "cell_type": "code",
      "execution_count": null,
      "metadata": {
        "id": "3QDAweTpjY75"
      },
      "outputs": [],
      "source": [
        "res = ah.get_orderbook(USER_EMAIL, SIGNKEY,\n",
        "                                        instrument=instrument,\n",
        "                                        exchange=exchange,\n",
        "                                        from_time=start_time,\n",
        "                                        levels=None, snapshot=True)\n",
        "s = res['snapshot'] "
      ]
    },
    {
      "cell_type": "code",
      "execution_count": null,
      "metadata": {
        "id": "J9QMR5Iz6ZOM"
      },
      "outputs": [],
      "source": [
        "s"
      ]
    },
    {
      "cell_type": "markdown",
      "metadata": {
        "id": "hLT2gq864OlY"
      },
      "source": [
        "# Streaming"
      ]
    },
    {
      "cell_type": "code",
      "execution_count": null,
      "metadata": {
        "id": "VdbvVKg24d_B"
      },
      "outputs": [],
      "source": [
        "USER_EMAIL = 'tarasryb@gmail.com'\n",
        "SIGNKEY = '9566c74d10037c4d7bbb0407d1e2c649'\n",
        "\n",
        "exchange = 'binance/f'\n",
        "instrument = 'LITUSDT'  #'BTCUSDT'#'ETHUSDT'\n"
      ]
    },
    {
      "cell_type": "code",
      "execution_count": null,
      "metadata": {
        "id": "sSNMP2GHdkso"
      },
      "outputs": [],
      "source": [
        "def on_trade_fn(trade):\n",
        "    print('>>> Got trade:\\n', trade)\n",
        "\n",
        "\n",
        "def on_order_fn(order):\n",
        "    print('\\n>>> Got order:\\n', order.info())\n",
        "\n",
        "\n",
        "def on_error_fn(error: Exception):\n",
        "    # print(traceback.format_exc())\n",
        "    print('>>> Got error: ', error)\n"
      ]
    },
    {
      "cell_type": "code",
      "execution_count": null,
      "metadata": {
        "id": "vNW5jGgEdWfi"
      },
      "outputs": [],
      "source": [
        "ah.get_stream(USER_EMAIL, SIGNKEY,\n",
        "              exchange=exchange,\n",
        "              instrument=instrument,\n",
        "              on_trade=on_trade_fn,\n",
        "              # on_order=on_order_fn,\n",
        "              on_error=on_error_fn)\n"
      ]
    }
  ],
  "metadata": {
    "colab": {
      "authorship_tag": "ABX9TyOLnNAFFnRrNQ0Pik1mOyx1",
      "include_colab_link": true,
      "provenance": [],
      "toc_visible": true
    },
    "kernelspec": {
      "display_name": "Python 3.9.15 ('ta')",
      "language": "python",
      "name": "python3"
    },
    "language_info": {
      "codemirror_mode": {
        "name": "ipython",
        "version": 3
      },
      "file_extension": ".py",
      "mimetype": "text/x-python",
      "name": "python",
      "nbconvert_exporter": "python",
      "pygments_lexer": "ipython3",
      "version": "3.9.15"
    },
    "vscode": {
      "interpreter": {
        "hash": "b1257e1661eb3cd295446c2f6ba2db8ad78e1f5edaab33757448472e151735bc"
      }
    }
  },
  "nbformat": 4,
  "nbformat_minor": 0
}
