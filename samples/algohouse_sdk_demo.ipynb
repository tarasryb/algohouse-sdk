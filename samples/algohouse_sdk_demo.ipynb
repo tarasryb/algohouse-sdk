{
  "nbformat": 4,
  "nbformat_minor": 0,
  "metadata": {
    "colab": {
      "provenance": [],
      "toc_visible": true,
      "authorship_tag": "ABX9TyPTP1w713/t+AANOyv3RB1w",
      "include_colab_link": true
    },
    "kernelspec": {
      "name": "python3",
      "display_name": "Python 3"
    },
    "language_info": {
      "name": "python"
    }
  },
  "cells": [
    {
      "cell_type": "markdown",
      "metadata": {
        "id": "view-in-github",
        "colab_type": "text"
      },
      "source": [
        "<a href=\"https://colab.research.google.com/github/tarasryb/algohouse_sdk/blob/master/samples/algohouse_sdk_demo.ipynb\" target=\"_parent\"><img src=\"https://colab.research.google.com/assets/colab-badge.svg\" alt=\"Open In Colab\"/></a>"
      ]
    },
    {
      "cell_type": "code",
      "source": [
        "!git clone https://github.com/tarasryb/algohouse_sdk.git"
      ],
      "metadata": {
        "id": "kCwTYkgaPdbC",
        "collapsed": true,
        "colab": {
          "base_uri": "https://localhost:8080/"
        },
        "outputId": "ceaacc22-0f33-450e-beca-1e7316a3d7f8"
      },
      "execution_count": null,
      "outputs": [
        {
          "output_type": "stream",
          "name": "stdout",
          "text": [
            "Cloning into 'algohouse_sdk'...\n",
            "remote: Enumerating objects: 195, done.\u001b[K\n",
            "remote: Counting objects: 100% (195/195), done.\u001b[K\n",
            "remote: Compressing objects: 100% (133/133), done.\u001b[K\n",
            "remote: Total 195 (delta 113), reused 128 (delta 58), pack-reused 0\u001b[K\n",
            "Receiving objects: 100% (195/195), 128.62 KiB | 9.19 MiB/s, done.\n",
            "Resolving deltas: 100% (113/113), done.\n"
          ]
        }
      ]
    },
    {
      "cell_type": "code",
      "source": [
        "!wget https://launchpad.net/~mario-mariomedina/+archive/ubuntu/talib/+files/libta-lib0_0.4.0-oneiric1_amd64.deb -qO libta.deb\n",
        "!wget https://launchpad.net/~mario-mariomedina/+archive/ubuntu/talib/+files/ta-lib0-dev_0.4.0-oneiric1_amd64.deb -qO ta.deb\n",
        "!dpkg -i libta.deb ta.deb\n",
        "!pip install ta-lib"
      ],
      "metadata": {
        "id": "AgVyyTtRQkPu"
      },
      "execution_count": null,
      "outputs": []
    },
    {
      "cell_type": "code",
      "source": [
        "# !wget http://prdownloads.sourceforge.net/ta-lib/ta-lib-0.4.0-src.tar.gz \n",
        "# !tar xvzf ta-lib-0.4.0-src.tar.gz\n",
        "# import os\n",
        "# os.chdir('ta-lib') # Can't use !cd in co-lab\n",
        "# !./configure --prefix=/usr\n",
        "# !make\n",
        "# !make install\n",
        "# os.chdir('../')\n",
        "# !pip install TA-Lib\n"
      ],
      "metadata": {
        "id": "Q18c5sqhOxR3"
      },
      "execution_count": null,
      "outputs": []
    },
    {
      "cell_type": "code",
      "source": [
        "import plotly.graph_objects as go\n",
        "from plotly.subplots import make_subplots\n",
        "import plotly.express as px\n",
        "\n",
        "import matplotlib.pyplot as plt\n",
        "from matplotlib.dates import DateFormatter\n",
        "# import talib as ta\n",
        "import pandas as pd\n",
        "import requests\n",
        "\n",
        "import sys\n",
        "sys.path.append(\"algohouse_sdk\")\n",
        "import algohouse as ah\n",
        "import ah_settings as ahs"
      ],
      "metadata": {
        "id": "WT4IxSNoP9RK"
      },
      "execution_count": null,
      "outputs": []
    },
    {
      "cell_type": "markdown",
      "source": [
        "# Settings"
      ],
      "metadata": {
        "id": "xMDwFj0gsFzW"
      }
    },
    {
      "cell_type": "code",
      "source": [
        "USER_EMAIL = ''  # put you email here\n",
        "SIGNKEY = ''  # put you signature key here\n",
        "\n",
        "exchange = 'binance/f'\n",
        "instrument = 'APEBUSD'  #'1000LUNCBUSD'\n",
        "start_time = '2022-11-01T00:00:00'\n",
        "end_time = '2022-12-30T23:00:00'\n",
        "\n",
        "plotly_theme = \"plotly_dark\"  # \"plotly_white\"\n"
      ],
      "metadata": {
        "id": "tqraD8unb8x6"
      },
      "execution_count": null,
      "outputs": []
    },
    {
      "cell_type": "markdown",
      "source": [
        "# Reference Data"
      ],
      "metadata": {
        "id": "bxmp5oL_seNE"
      }
    },
    {
      "cell_type": "code",
      "source": [
        "ref_data = ah.get_reference_data(['coinbase'])\n",
        "ref_data.head(100)"
      ],
      "metadata": {
        "id": "7UuiDL0dOHy2",
        "collapsed": true,
        "colab": {
          "base_uri": "https://localhost:8080/",
          "height": 608
        },
        "outputId": "89aa65b4-3807-4259-ae4b-395c14eba4a5"
      },
      "execution_count": null,
      "outputs": [
        {
          "output_type": "execute_result",
          "data": {
            "text/plain": [
              "   exchange                                        instruments\n",
              "0  coinbase  [00-USD, 1INCH-BTC, 1INCH-EUR, 1INCH-GBP, 1INC..."
            ],
            "text/html": [
              "\n",
              "  <div id=\"df-36ecd59a-87c8-42ba-b2c5-d52cf31dd765\">\n",
              "    <div class=\"colab-df-container\">\n",
              "      <div>\n",
              "<style scoped>\n",
              "    .dataframe tbody tr th:only-of-type {\n",
              "        vertical-align: middle;\n",
              "    }\n",
              "\n",
              "    .dataframe tbody tr th {\n",
              "        vertical-align: top;\n",
              "    }\n",
              "\n",
              "    .dataframe thead th {\n",
              "        text-align: right;\n",
              "    }\n",
              "</style>\n",
              "<table border=\"1\" class=\"dataframe\">\n",
              "  <thead>\n",
              "    <tr style=\"text-align: right;\">\n",
              "      <th></th>\n",
              "      <th>exchange</th>\n",
              "      <th>instruments</th>\n",
              "    </tr>\n",
              "  </thead>\n",
              "  <tbody>\n",
              "    <tr>\n",
              "      <th>0</th>\n",
              "      <td>coinbase</td>\n",
              "      <td>[00-USD, 1INCH-BTC, 1INCH-EUR, 1INCH-GBP, 1INC...</td>\n",
              "    </tr>\n",
              "  </tbody>\n",
              "</table>\n",
              "</div>\n",
              "      <button class=\"colab-df-convert\" onclick=\"convertToInteractive('df-36ecd59a-87c8-42ba-b2c5-d52cf31dd765')\"\n",
              "              title=\"Convert this dataframe to an interactive table.\"\n",
              "              style=\"display:none;\">\n",
              "        \n",
              "  <svg xmlns=\"http://www.w3.org/2000/svg\" height=\"24px\"viewBox=\"0 0 24 24\"\n",
              "       width=\"24px\">\n",
              "    <path d=\"M0 0h24v24H0V0z\" fill=\"none\"/>\n",
              "    <path d=\"M18.56 5.44l.94 2.06.94-2.06 2.06-.94-2.06-.94-.94-2.06-.94 2.06-2.06.94zm-11 1L8.5 8.5l.94-2.06 2.06-.94-2.06-.94L8.5 2.5l-.94 2.06-2.06.94zm10 10l.94 2.06.94-2.06 2.06-.94-2.06-.94-.94-2.06-.94 2.06-2.06.94z\"/><path d=\"M17.41 7.96l-1.37-1.37c-.4-.4-.92-.59-1.43-.59-.52 0-1.04.2-1.43.59L10.3 9.45l-7.72 7.72c-.78.78-.78 2.05 0 2.83L4 21.41c.39.39.9.59 1.41.59.51 0 1.02-.2 1.41-.59l7.78-7.78 2.81-2.81c.8-.78.8-2.07 0-2.86zM5.41 20L4 18.59l7.72-7.72 1.47 1.35L5.41 20z\"/>\n",
              "  </svg>\n",
              "      </button>\n",
              "      \n",
              "  <style>\n",
              "    .colab-df-container {\n",
              "      display:flex;\n",
              "      flex-wrap:wrap;\n",
              "      gap: 12px;\n",
              "    }\n",
              "\n",
              "    .colab-df-convert {\n",
              "      background-color: #E8F0FE;\n",
              "      border: none;\n",
              "      border-radius: 50%;\n",
              "      cursor: pointer;\n",
              "      display: none;\n",
              "      fill: #1967D2;\n",
              "      height: 32px;\n",
              "      padding: 0 0 0 0;\n",
              "      width: 32px;\n",
              "    }\n",
              "\n",
              "    .colab-df-convert:hover {\n",
              "      background-color: #E2EBFA;\n",
              "      box-shadow: 0px 1px 2px rgba(60, 64, 67, 0.3), 0px 1px 3px 1px rgba(60, 64, 67, 0.15);\n",
              "      fill: #174EA6;\n",
              "    }\n",
              "\n",
              "    [theme=dark] .colab-df-convert {\n",
              "      background-color: #3B4455;\n",
              "      fill: #D2E3FC;\n",
              "    }\n",
              "\n",
              "    [theme=dark] .colab-df-convert:hover {\n",
              "      background-color: #434B5C;\n",
              "      box-shadow: 0px 1px 3px 1px rgba(0, 0, 0, 0.15);\n",
              "      filter: drop-shadow(0px 1px 2px rgba(0, 0, 0, 0.3));\n",
              "      fill: #FFFFFF;\n",
              "    }\n",
              "  </style>\n",
              "\n",
              "      <script>\n",
              "        const buttonEl =\n",
              "          document.querySelector('#df-36ecd59a-87c8-42ba-b2c5-d52cf31dd765 button.colab-df-convert');\n",
              "        buttonEl.style.display =\n",
              "          google.colab.kernel.accessAllowed ? 'block' : 'none';\n",
              "\n",
              "        async function convertToInteractive(key) {\n",
              "          const element = document.querySelector('#df-36ecd59a-87c8-42ba-b2c5-d52cf31dd765');\n",
              "          const dataTable =\n",
              "            await google.colab.kernel.invokeFunction('convertToInteractive',\n",
              "                                                     [key], {});\n",
              "          if (!dataTable) return;\n",
              "\n",
              "          const docLinkHtml = 'Like what you see? Visit the ' +\n",
              "            '<a target=\"_blank\" href=https://colab.research.google.com/notebooks/data_table.ipynb>data table notebook</a>'\n",
              "            + ' to learn more about interactive tables.';\n",
              "          element.innerHTML = '';\n",
              "          dataTable['output_type'] = 'display_data';\n",
              "          await google.colab.output.renderOutput(dataTable, element);\n",
              "          const docLink = document.createElement('div');\n",
              "          docLink.innerHTML = docLinkHtml;\n",
              "          element.appendChild(docLink);\n",
              "        }\n",
              "      </script>\n",
              "    </div>\n",
              "  </div>\n",
              "  "
            ]
          },
          "metadata": {},
          "execution_count": 6
        }
      ]
    },
    {
      "cell_type": "code",
      "source": [
        "bnc_ref = ref_data.loc[ref_data['exchange'] == 'binance/f']\n",
        "(bnc_ref['instruments'].values)"
      ],
      "metadata": {
        "id": "qUQPJ47mT1FE"
      },
      "execution_count": null,
      "outputs": []
    },
    {
      "cell_type": "markdown",
      "source": [
        "# Trades Without Aggregation"
      ],
      "metadata": {
        "id": "_tFWkGGasY7s"
      }
    },
    {
      "cell_type": "code",
      "source": [
        "trades = ah.get_trades(USER_EMAIL, SIGNKEY,\n",
        "                                        instrument=instrument,\n",
        "                                        exchange=exchange,\n",
        "                                        from_time=start_time,\n",
        "                                        to_time=end_time)\n",
        "trades = trades.loc[trades['bs'] == 'S']\n",
        "trades.tail(100)"
      ],
      "metadata": {
        "id": "pCSfnoLLakJg"
      },
      "execution_count": null,
      "outputs": []
    },
    {
      "cell_type": "code",
      "source": [
        "fig = make_subplots(specs=[[{\"secondary_y\": True}]])\n",
        "\n",
        "fig.add_trace(\n",
        "    go.Scatter(x=trades['ts'], y=trades['price'], name=\"price\"),\n",
        "    secondary_y=False,\n",
        ")\n",
        "\n",
        "fig.add_trace(\n",
        "    go.Scatter(x=trades['ts'], y=trades['volume'], name=\"volume\"),\n",
        "    secondary_y=True,\n",
        ")\n",
        "\n",
        "fig.update_layout(\n",
        "    title = f\"{instrument} Price & Volume\",\n",
        "    autosize=False,\n",
        "    width=1200,\n",
        "    height=600,\n",
        "    template=plotly_theme,\n",
        "    margin=dict(\n",
        "        l=10,\n",
        "        r=10,\n",
        "        b=10,\n",
        "        t=35,\n",
        "        pad=4\n",
        "    ),\n",
        "    xaxis_rangeslider_visible=False,\n",
        ")\n",
        "fig.update_xaxes(title_text=\"<b>time</b>\")\n",
        "fig.update_yaxes(title_text=\"<b>price</b>\", secondary_y=False)\n",
        "fig.update_yaxes(title_text=\"<b>volume</b>\", secondary_y=True)\n",
        "\n",
        "fig.show()"
      ],
      "metadata": {
        "id": "nmKiM--Dqyx4"
      },
      "execution_count": null,
      "outputs": []
    },
    {
      "cell_type": "markdown",
      "source": [
        "# Aggregated Trades"
      ],
      "metadata": {
        "id": "gWYT5ChXsKXk"
      }
    },
    {
      "cell_type": "code",
      "source": [
        "trades_a = ah.get_trades_aggregated(USER_EMAIL, SIGNKEY,\n",
        "                                        instrument=instrument,\n",
        "                                        exchange=exchange,\n",
        "                                        from_time=start_time,\n",
        "                                        to_time=end_time,\n",
        "                                        aggregation='1d')\n",
        "trades_a.head(1000)"
      ],
      "metadata": {
        "id": "sfx1Cw5SWyE6"
      },
      "execution_count": null,
      "outputs": []
    },
    {
      "cell_type": "code",
      "source": [
        "fig = go.Figure(data=[\n",
        "    go.Candlestick(x=trades_a['ts'],\n",
        "                open=trades_a['open'],\n",
        "                high=trades_a['high'],\n",
        "                low=trades_a['low'],\n",
        "                close=trades_a['close'], name=\"OCHL price\")\n",
        "    ])\n",
        "fig.update_layout(\n",
        "    title = f\"{instrument} Price\",\n",
        "    autosize=False,\n",
        "    width=1200,\n",
        "    height=600,\n",
        "    template=plotly_theme,\n",
        "    margin=dict(\n",
        "        l=10,\n",
        "        r=10,\n",
        "        b=10,\n",
        "        t=35,\n",
        "        pad=4\n",
        "    ),\n",
        "    xaxis_rangeslider_visible=False\n",
        ")\n",
        "\n",
        "fig.show()\n"
      ],
      "metadata": {
        "id": "_V-0pdo3YBOF"
      },
      "execution_count": null,
      "outputs": []
    },
    {
      "cell_type": "markdown",
      "source": [
        "# Technical Analysis"
      ],
      "metadata": {
        "id": "sv1lZ9tVy81g"
      }
    },
    {
      "cell_type": "markdown",
      "source": [
        "## Volume Indicators"
      ],
      "metadata": {
        "id": "rxXZ-vslQiyg"
      }
    },
    {
      "cell_type": "markdown",
      "source": [
        "### Get Data"
      ],
      "metadata": {
        "id": "HXczCPPOTYsE"
      }
    },
    {
      "cell_type": "code",
      "source": [
        "window_start = '2022-11-20T00:00:00'\n",
        "window_end = '2022-12-01T00:00:00'\n",
        "df = ah.get_trades_aggregated(USER_EMAIL, SIGNKEY,\n",
        "                                        instrument=instrument,\n",
        "                                        exchange=exchange,\n",
        "                                        from_time=window_start,\n",
        "                                        to_time=window_end,\n",
        "                                        aggregation='1d')\n"
      ],
      "metadata": {
        "id": "m7khpE4lymiX"
      },
      "execution_count": null,
      "outputs": []
    },
    {
      "cell_type": "code",
      "source": [
        "ver_window_start = '2022-12-01T00:00:00'\n",
        "ver_window_end = '2022-12-12T00:00:00'\n",
        "ver_df = ah.get_trades_aggregated(USER_EMAIL, SIGNKEY,\n",
        "                                        instrument=instrument,\n",
        "                                        exchange=exchange,\n",
        "                                        from_time=ver_window_start,\n",
        "                                        to_time=ver_window_end,\n",
        "                                        aggregation='1d')\n"
      ],
      "metadata": {
        "id": "wU0BBJg01qHQ"
      },
      "execution_count": null,
      "outputs": []
    },
    {
      "cell_type": "code",
      "source": [
        "open = df['open']\n",
        "high = df['high']\n",
        "low = df['low']\n",
        "close = df['close']\n",
        "volume = df['volume']\n"
      ],
      "metadata": {
        "id": "N0kIptQszDf4"
      },
      "execution_count": null,
      "outputs": []
    },
    {
      "cell_type": "markdown",
      "source": [
        "### [AD - Chaikin A/D Line](https://www.investopedia.com/articles/trading/08/accumulation-distribution-line.asp)\n"
      ],
      "metadata": {
        "id": "QC0r3Fwv5UwT"
      }
    },
    {
      "cell_type": "code",
      "source": [
        "ad = ta.AD(high, low, close, volume)\n",
        "print(ad)"
      ],
      "metadata": {
        "id": "i3zWbp1s5S-P"
      },
      "execution_count": null,
      "outputs": []
    },
    {
      "cell_type": "code",
      "source": [
        "fig = make_subplots(specs=[[{\"secondary_y\": True}]])\n",
        "\n",
        "fig.add_trace(\n",
        "    go.Scatter(x=df['ts'], y=df['volume'], name=\"volume\"),\n",
        "    secondary_y=False,\n",
        ")\n",
        "\n",
        "fig.add_trace(\n",
        "    go.Scatter(x=ver_df['ts'], y=ver_df['volume'], name=\"verification volume\"),\n",
        "    secondary_y=False,\n",
        ")\n",
        "\n",
        "fig.add_trace(\n",
        "    go.Scatter(x=ver_df['ts'], y=ad, name=\"AD volume\"),\n",
        "    secondary_y=False,\n",
        ")\n",
        "\n",
        "fig.update_layout(\n",
        "    title = f\"{instrument} Chaikin A/D Line\",\n",
        "    autosize=False,\n",
        "    width=1200,\n",
        "    height=600,\n",
        "    template=plotly_theme,\n",
        "    margin=dict(\n",
        "        l=10,\n",
        "        r=10,\n",
        "        b=10,\n",
        "        t=35,\n",
        "        pad=4\n",
        "    ),\n",
        "    xaxis_rangeslider_visible=False,\n",
        ")\n",
        "fig.update_xaxes(title_text=\"<b>time</b>\")\n",
        "fig.update_yaxes(title_text=\"<b>volume</b>\", secondary_y=False)\n",
        "# fig.update_yaxes(title_text=\"<b>volume</b>\", secondary_y=True)\n",
        "\n",
        "fig.show()"
      ],
      "metadata": {
        "id": "3rJ8IjCb1B9M"
      },
      "execution_count": null,
      "outputs": []
    },
    {
      "cell_type": "markdown",
      "source": [
        "### [ADOSC - Chaikin A/D Oscillator](https://www.investopedia.com/articles/active-trading/031914/understanding-chaikin-oscillator.asp)"
      ],
      "metadata": {
        "id": "T1v1z7Ko6fby"
      }
    },
    {
      "cell_type": "code",
      "source": [
        "adosc = ta.ADOSC(high, low, close, volume, fastperiod=3, slowperiod=10)\n",
        "print(adosc)"
      ],
      "metadata": {
        "id": "Dh53-iAF0Vd0"
      },
      "execution_count": null,
      "outputs": []
    },
    {
      "cell_type": "code",
      "source": [
        "fig = make_subplots(specs=[[{\"secondary_y\": True}]])\n",
        "\n",
        "fig.add_trace(\n",
        "    go.Scatter(x=df['ts'], y=df['volume'], name=\"volume\"),\n",
        "    secondary_y=False,\n",
        ")\n",
        "\n",
        "fig.add_trace(\n",
        "    go.Scatter(x=ver_df['ts'], y=ver_df['volume'], name=\"verification volume\"),\n",
        "    secondary_y=False,\n",
        ")\n",
        "\n",
        "fig.add_trace(\n",
        "    go.Scatter(x=df['ts'], y=adosc, name=\"Chaikin A/D Oscillator\"),\n",
        "    secondary_y=True,\n",
        ")\n",
        "\n",
        "fig.update_layout(\n",
        "    title = f\"{instrument} Chaikin A/D Oscillator\",\n",
        "    autosize=False,\n",
        "    width=1200,\n",
        "    height=600,\n",
        "    template=plotly_theme,\n",
        "    margin=dict(\n",
        "        l=10,\n",
        "        r=10,\n",
        "        b=10,\n",
        "        t=35,\n",
        "        pad=4\n",
        "    ),\n",
        "    xaxis_rangeslider_visible=False,\n",
        ")\n",
        "fig.update_xaxes(title_text=\"<b>time</b>\")\n",
        "fig.update_yaxes(title_text=\"<b>Volume</b>\", secondary_y=False)\n",
        "fig.update_yaxes(title_text=\"<b>Chaikin A/D Oscillator</b>\", secondary_y=True)\n",
        "\n",
        "fig.show()"
      ],
      "metadata": {
        "id": "eaKcUEBJ048K"
      },
      "execution_count": null,
      "outputs": []
    },
    {
      "cell_type": "markdown",
      "source": [
        "###  [OBV - On Balance Volume](https://www.investopedia.com/terms/o/onbalancevolume.asp)"
      ],
      "metadata": {
        "id": "ioUtZl3q8vf3"
      }
    },
    {
      "cell_type": "code",
      "source": [
        "ovb = ta.OBV(close, volume)\n",
        "# print(ovb)"
      ],
      "metadata": {
        "id": "M2R1Gk4Z71Sw"
      },
      "execution_count": null,
      "outputs": []
    },
    {
      "cell_type": "code",
      "source": [
        "ver_price_df = ah.get_trades_aggregated(USER_EMAIL, SIGNKEY,\n",
        "                                        instrument=instrument,\n",
        "                                        exchange=exchange,\n",
        "                                        from_time=window_start,\n",
        "                                        to_time=ver_window_end,\n",
        "                                        aggregation='1d')\n"
      ],
      "metadata": {
        "id": "cEg0K3Fa-dFV"
      },
      "execution_count": null,
      "outputs": []
    },
    {
      "cell_type": "code",
      "source": [
        "fig = make_subplots(specs=[[{\"secondary_y\": True}]])\n",
        "\n",
        "fig.add_trace(\n",
        "    go.Scatter(x=df['ts'], y=df['volume'], name=\"volume\"),\n",
        "    secondary_y=False,\n",
        ")\n",
        "\n",
        "# fig.add_trace(\n",
        "#     go.Scatter(x=ver_df['ts'], y=ver_df['volume'], name=\"verification volume\"),\n",
        "#     secondary_y=False,\n",
        "# )\n",
        "\n",
        "fig.add_trace(\n",
        "    go.Scatter(x=ver_price_df['ts'], y=ver_price_df['close'], name=\"verification price\"),\n",
        "    secondary_y=True,\n",
        ")\n",
        "\n",
        "fig.add_trace(\n",
        "    go.Scatter(x=df['ts'], y=ovb, name=\"OVB volume\"),\n",
        "    secondary_y=False,\n",
        ")\n",
        "\n",
        "fig.update_layout(\n",
        "    title = f\"{instrument} On Balance Volume\",\n",
        "    autosize=False,\n",
        "    width=1200,\n",
        "    height=600,\n",
        "    template=plotly_theme,\n",
        "    margin=dict(\n",
        "        l=10,\n",
        "        r=10,\n",
        "        b=10,\n",
        "        t=35,\n",
        "        pad=4\n",
        "    ),\n",
        "    xaxis_rangeslider_visible=False,\n",
        ")\n",
        "fig.update_xaxes(title_text=\"<b>time</b>\")\n",
        "fig.update_yaxes(title_text=\"<b>volume</b>\", secondary_y=False)\n",
        "fig.update_yaxes(title_text=\"<b>price</b>\", secondary_y=True)\n",
        "\n",
        "fig.show()"
      ],
      "metadata": {
        "id": "0ztuclg383pq"
      },
      "execution_count": null,
      "outputs": []
    },
    {
      "cell_type": "markdown",
      "source": [
        "### Basic Indicators\n",
        "* [ADV - Average Daily Value Traded*](https://www.investopedia.com/terms/a/averagedailytradingvolume.asp)\n",
        "* MA - Moving Average"
      ],
      "metadata": {
        "id": "MHR9XgrmS6qk"
      }
    },
    {
      "cell_type": "code",
      "source": [
        "idc = pd.DataFrame()\n",
        "idc['ts'] = df['ts'] \n",
        "idc['volume'] = df['volume'] \n",
        "idc['ADV5d'] = df['volume'].rolling(window=5).mean().shift(1)\n",
        "idc['ADV21d'] = df['volume'].rolling(window=21).mean().shift(1)\n",
        "idc['MA1w'] = ta.MA(close, timeperiod=7, matype=0)\n",
        "idc['MA3w'] = ta.MA(close, timeperiod=7*3, matype=0)\n",
        "idc['VWAP'] = pd.Series(ta.WMA(close, timeperiod=24)) * df['volume']\n",
        "# idc.head()"
      ],
      "metadata": {
        "id": "vB3Oz_EJTI6i"
      },
      "execution_count": null,
      "outputs": []
    },
    {
      "cell_type": "code",
      "source": [
        "fig = make_subplots(specs=[[{\"secondary_y\": True}]])\n",
        "\n",
        "fig.add_trace(\n",
        "    \n",
        "    go.Candlestick(x=df['ts'],\n",
        "                open=df['open'],\n",
        "                high=df['high'],\n",
        "                low=df['low'],\n",
        "                close=df['close'], name=\"OCHL price\"),\n",
        "\n",
        "    secondary_y=False,\n",
        "\n",
        "\n",
        ")\n",
        "\n",
        "fig.add_trace(\n",
        "    go.Scatter(x=idc['ts'], y=idc['volume'], name=\"volume\", mode = 'lines'),\n",
        "    secondary_y=True,\n",
        ")\n",
        "\n",
        "fig.add_trace(\n",
        "    go.Scatter(x=idc['ts'], y=idc['ADV5d'], name=\"ADV 5d\", mode = 'lines'),\n",
        "    secondary_y=True,\n",
        ")\n",
        "\n",
        "fig.add_trace(\n",
        "    go.Scatter(x=idc['ts'], y=idc['ADV21d'], name=\"ADV 21d\", mode = 'lines'),\n",
        "    secondary_y=True,\n",
        ")\n",
        "\n",
        "fig.add_trace(\n",
        "    go.Scatter(x=idc['ts'], y=idc['MA1w'], name=\"MA 1w\", mode = 'lines+markers'),\n",
        "    secondary_y=False,\n",
        ")\n",
        "\n",
        "fig.add_trace(\n",
        "    go.Scatter(x=idc['ts'], y=idc['MA3w'], name=\"MA 3w\", mode = 'lines+markers'),\n",
        "    secondary_y=False,\n",
        ")\n",
        "\n",
        "fig.add_trace(\n",
        "    go.Scatter(x=idc['ts'], y=idc['VWAP'], name=\"VWAP\", mode = 'lines+markers'),\n",
        "    secondary_y=True,\n",
        ")\n",
        "\n",
        "fig.update_layout(\n",
        "    title = f\"{instrument} Basic Indicators\",\n",
        "    autosize=False,\n",
        "    width=1200,\n",
        "    height=600,\n",
        "    template=plotly_theme,\n",
        "    margin=dict(\n",
        "        l=10,\n",
        "        r=10,\n",
        "        b=10,\n",
        "        t=35,\n",
        "        pad=4\n",
        "    ),\n",
        "    xaxis_rangeslider_visible=False,\n",
        ")\n",
        "fig.update_xaxes(title_text=\"<b>time</b>\")\n",
        "fig.update_yaxes(title_text=\"<b>price</b>\", secondary_y=False)\n",
        "fig.update_yaxes(title_text=\"<b>ATR</b>\", secondary_y=True)\n",
        "\n",
        "fig.show()"
      ],
      "metadata": {
        "id": "qz_X1HhsZNSn"
      },
      "execution_count": null,
      "outputs": []
    },
    {
      "cell_type": "markdown",
      "source": [
        "## Volatility Indicators"
      ],
      "metadata": {
        "id": "qnRD4pDpQOIu"
      }
    },
    {
      "cell_type": "code",
      "source": [
        "window_start = '2022-11-01T00:00:00'\n",
        "window_end = '2022-12-12T00:00:00'\n",
        "df = ah.get_trades_aggregated(USER_EMAIL, SIGNKEY,\n",
        "                                        instrument=instrument,\n",
        "                                        exchange=exchange,\n",
        "                                        from_time=window_start,\n",
        "                                        to_time=window_end,\n",
        "                                        aggregation='1d')\n",
        "open = df['open']\n",
        "high = df['high']\n",
        "low = df['low']\n",
        "close = df['close']\n",
        "volume = df['volume']\n"
      ],
      "metadata": {
        "id": "ZQo8qUOVHi0e"
      },
      "execution_count": null,
      "outputs": []
    },
    {
      "cell_type": "markdown",
      "source": [
        "### [ATR - Average True Range](https://www.investopedia.com/terms/a/atr.asp)"
      ],
      "metadata": {
        "id": "EFKu_7JbG0v2"
      }
    },
    {
      "cell_type": "code",
      "source": [
        "atr = ta.ATR(high, low, close, timeperiod=14)\n",
        "# print(atr)"
      ],
      "metadata": {
        "id": "8yuVDXFR9IzJ"
      },
      "execution_count": null,
      "outputs": []
    },
    {
      "cell_type": "code",
      "source": [
        "fig = make_subplots(specs=[[{\"secondary_y\": True}]])\n",
        "\n",
        "fig.add_trace(\n",
        "    \n",
        "    # go.Scatter(x=df['ts'], y=df['close'], name=\"volume\"),\n",
        "\n",
        "    go.Candlestick(x=trades_a['ts'],\n",
        "                open=trades_a['open'],\n",
        "                high=trades_a['high'],\n",
        "                low=trades_a['low'],\n",
        "                close=trades_a['close'], name=\"OCHL price\"),\n",
        "\n",
        "    secondary_y=False,\n",
        "\n",
        "\n",
        ")\n",
        "\n",
        "fig.add_trace(\n",
        "    go.Scatter(x=df['ts'], y=atr, name=\"ATR\", mode = 'lines+markers'),\n",
        "    secondary_y=True,\n",
        ")\n",
        "\n",
        "\n",
        "fig.update_layout(\n",
        "    title = f\"{instrument} Average True Range Indicator\",\n",
        "    autosize=False,\n",
        "    width=1200,\n",
        "    height=600,\n",
        "    template=plotly_theme,\n",
        "    margin=dict(\n",
        "        l=10,\n",
        "        r=10,\n",
        "        b=10,\n",
        "        t=35,\n",
        "        pad=4\n",
        "    ),\n",
        "    xaxis_rangeslider_visible=False,\n",
        ")\n",
        "fig.update_xaxes(title_text=\"<b>time</b>\")\n",
        "fig.update_yaxes(title_text=\"<b>price</b>\", secondary_y=False)\n",
        "fig.update_yaxes(title_text=\"<b>ATR</b>\", secondary_y=True)\n",
        "\n",
        "fig.show()"
      ],
      "metadata": {
        "id": "OBWVGRyiHPAH"
      },
      "execution_count": null,
      "outputs": []
    },
    {
      "cell_type": "markdown",
      "source": [
        "### [NATR - Normalized Average True Range](https://support.atas.net/en/knowledge-bases/2/articles/43436-atr-normalized)"
      ],
      "metadata": {
        "id": "ujY8dqFEKvG_"
      }
    },
    {
      "cell_type": "code",
      "source": [
        "natr = ta.NATR(high, low, close, timeperiod=14)\n",
        "# print(natr)"
      ],
      "metadata": {
        "id": "uRzUlm4jJFFv"
      },
      "execution_count": null,
      "outputs": []
    },
    {
      "cell_type": "code",
      "source": [
        "fig = make_subplots(specs=[[{\"secondary_y\": True}]])\n",
        "\n",
        "fig.add_trace(\n",
        "    \n",
        "    # go.Scatter(x=df['ts'], y=df['close'], name=\"volume\"),\n",
        "\n",
        "    go.Candlestick(x=trades_a['ts'],\n",
        "                open=trades_a['open'],\n",
        "                high=trades_a['high'],\n",
        "                low=trades_a['low'],\n",
        "                close=trades_a['close'], name=\"OCHL price\"),\n",
        "\n",
        "    secondary_y=False,\n",
        "\n",
        "\n",
        ")\n",
        "\n",
        "fig.add_trace(\n",
        "    go.Scatter(x=df['ts'], y=natr, name=\"NATR\", mode = 'lines+markers'),\n",
        "    secondary_y=True,\n",
        ")\n",
        "\n",
        "\n",
        "fig.update_layout(\n",
        "    title = f\"{instrument} Normalized Average True Range Indicator\",\n",
        "    autosize=False,\n",
        "    width=1200,\n",
        "    height=600,\n",
        "    template=plotly_theme,\n",
        "    margin=dict(\n",
        "        l=10,\n",
        "        r=10,\n",
        "        b=10,\n",
        "        t=35,\n",
        "        pad=4\n",
        "    ),\n",
        "    xaxis_rangeslider_visible=False,\n",
        ")\n",
        "fig.update_xaxes(title_text=\"<b>time</b>\")\n",
        "fig.update_yaxes(title_text=\"<b>price</b>\", secondary_y=False)\n",
        "fig.update_yaxes(title_text=\"<b>NATR</b>\", secondary_y=True)\n",
        "\n",
        "fig.show()"
      ],
      "metadata": {
        "id": "z1MPCQ9YLYP2"
      },
      "execution_count": null,
      "outputs": []
    },
    {
      "cell_type": "markdown",
      "source": [
        "### [TRANGE - True Range](https://support.atas.net/en/knowledge-bases/2/articles/45183-true-range)"
      ],
      "metadata": {
        "id": "eP1C3zsYL7z1"
      }
    },
    {
      "cell_type": "code",
      "source": [
        "trange = ta.TRANGE(high, low, close)\n",
        "# print(trange)"
      ],
      "metadata": {
        "id": "ALO1875SLYwE"
      },
      "execution_count": null,
      "outputs": []
    },
    {
      "cell_type": "code",
      "source": [
        "fig = make_subplots(specs=[[{\"secondary_y\": True}]])\n",
        "\n",
        "fig.add_trace(\n",
        "    \n",
        "    # go.Scatter(x=df['ts'], y=df['close'], name=\"volume\"),\n",
        "\n",
        "    go.Candlestick(x=trades_a['ts'],\n",
        "                open=trades_a['open'],\n",
        "                high=trades_a['high'],\n",
        "                low=trades_a['low'],\n",
        "                close=trades_a['close'], name=\"OCHL price\"),\n",
        "\n",
        "    secondary_y=False,\n",
        "\n",
        "\n",
        ")\n",
        "\n",
        "fig.add_trace(\n",
        "    go.Scatter(x=df['ts'], y=trange, name=\"TRANGE\", mode = 'lines+markers'),\n",
        "    secondary_y=True,\n",
        ")\n",
        "\n",
        "\n",
        "fig.update_layout(\n",
        "    title = f\"{instrument} True Range Indicator\",\n",
        "    autosize=False,\n",
        "    width=1200,\n",
        "    height=600,\n",
        "    template=plotly_theme,\n",
        "    margin=dict(\n",
        "        l=10,\n",
        "        r=10,\n",
        "        b=10,\n",
        "        t=35,\n",
        "        pad=4\n",
        "    ),\n",
        "    xaxis_rangeslider_visible=False,\n",
        ")\n",
        "fig.update_xaxes(title_text=\"<b>time</b>\")\n",
        "fig.update_yaxes(title_text=\"<b>price</b>\", secondary_y=False)\n",
        "fig.update_yaxes(title_text=\"<b>TRANGE</b>\", secondary_y=True)\n",
        "\n",
        "fig.show()"
      ],
      "metadata": {
        "id": "aKn9jWHNMzFp"
      },
      "execution_count": null,
      "outputs": []
    },
    {
      "cell_type": "markdown",
      "source": [
        "## Price Transform Functions\n",
        "* AVGPRICE - Average Price\n",
        "* MEDPRICE - Median Price\n",
        "* TYPPRICE - Typical Price\n",
        "* WCLPRICE - Weighted Close Price\n"
      ],
      "metadata": {
        "id": "NMnOVDTLOXZq"
      }
    },
    {
      "cell_type": "code",
      "source": [
        "avgprice = ta.AVGPRICE(open, high, low, close)\n",
        "medprice = ta.MEDPRICE(high, low)\n",
        "typprice = ta.TYPPRICE(high, low, close)\n",
        "wclprice = ta.WCLPRICE(high, low, close)"
      ],
      "metadata": {
        "id": "pClfDUKfM_rp"
      },
      "execution_count": null,
      "outputs": []
    },
    {
      "cell_type": "code",
      "source": [
        "fig = make_subplots(specs=[[{\"secondary_y\": True}]])\n",
        "\n",
        "fig.add_trace(\n",
        "    \n",
        "    # go.Scatter(x=df['ts'], y=df['close'], name=\"volume\"),\n",
        "\n",
        "    go.Candlestick(x=trades_a['ts'],\n",
        "                open=trades_a['open'],\n",
        "                high=trades_a['high'],\n",
        "                low=trades_a['low'],\n",
        "                close=trades_a['close'], name=\"OCHL price\"),\n",
        "\n",
        "    secondary_y=False,\n",
        "\n",
        "\n",
        ")\n",
        "\n",
        "fig.add_trace(\n",
        "    go.Scatter(x=df['ts'], y=avgprice, name=\"AVGPRICE\", mode = 'lines+markers'),\n",
        "    secondary_y=False,\n",
        ")\n",
        "\n",
        "fig.add_trace(\n",
        "    go.Scatter(x=df['ts'], y=medprice, name=\"MEDPRICE\", mode = 'lines+markers'),\n",
        "    secondary_y=False,\n",
        ")\n",
        "\n",
        "fig.add_trace(\n",
        "    go.Scatter(x=df['ts'], y=typprice, name=\"TYPPRICE\", mode = 'lines+markers'),\n",
        "    secondary_y=False,\n",
        ")\n",
        "\n",
        "fig.add_trace(\n",
        "    go.Scatter(x=df['ts'], y=wclprice, name=\"WCLPRICE\", mode = 'lines+markers'),\n",
        "    secondary_y=False,\n",
        ")\n",
        "\n",
        "\n",
        "fig.update_layout(\n",
        "    title = f\"{instrument} Price Transform Functions\",\n",
        "    autosize=False,\n",
        "    width=1200,\n",
        "    height=600,\n",
        "    template=plotly_theme,\n",
        "    margin=dict(\n",
        "        l=10,\n",
        "        r=10,\n",
        "        b=10,\n",
        "        t=35,\n",
        "        pad=4\n",
        "    ),\n",
        "    xaxis_rangeslider_visible=False,\n",
        ")\n",
        "fig.update_xaxes(title_text=\"<b>time</b>\")\n",
        "fig.update_yaxes(title_text=\"<b>price</b>\", secondary_y=False)\n",
        "# fig.update_yaxes(title_text=\"<b>TRANGE</b>\", secondary_y=True)\n",
        "\n",
        "fig.show()"
      ],
      "metadata": {
        "id": "RSl8NOKSO8kf"
      },
      "execution_count": null,
      "outputs": []
    },
    {
      "cell_type": "code",
      "source": [],
      "metadata": {
        "id": "10wxLNLDPZCP"
      },
      "execution_count": null,
      "outputs": []
    },
    {
      "cell_type": "markdown",
      "source": [
        "# Order book"
      ],
      "metadata": {
        "id": "JUr65f3eQ4Ka"
      }
    },
    {
      "cell_type": "markdown",
      "source": [
        "#### Reset orderbook cache"
      ],
      "metadata": {
        "id": "UWX5svF6Gvzb"
      }
    },
    {
      "cell_type": "code",
      "source": [
        "import orderbook\n",
        "orderbook.df_n_cached = None"
      ],
      "metadata": {
        "id": "s7YWazjGF5Pr"
      },
      "execution_count": null,
      "outputs": []
    },
    {
      "cell_type": "markdown",
      "source": [
        "#### Settings"
      ],
      "metadata": {
        "id": "eaonQmzCG6tV"
      }
    },
    {
      "cell_type": "code",
      "source": [
        "USER_EMAIL = 'tarasryb@gmail.com'\n",
        "SIGNKEY = '9566c74d10037c4d7bbb0407d1e2c649'\n",
        "\n",
        "exchange = 'binance/f'\n",
        "instrument = 'LITUSDT'  #'BTCUSDT'#'ETHUSDT'\n",
        "start_time = '2022-12-09T10:00:00'\n",
        "ahs.ORDER_LINES_TO_READ = 200\n",
        "# ahs.FILTER_BAD_PRICES = False\n",
        "\n",
        "plotly_theme = \"plotly_dark\"  # \"plotly_white\"\n"
      ],
      "metadata": {
        "id": "hS7-Kwt8RYqI"
      },
      "execution_count": null,
      "outputs": []
    },
    {
      "cell_type": "markdown",
      "source": [
        "#### Get Orderbook Data"
      ],
      "metadata": {
        "id": "c_uZYFRb_nw6"
      }
    },
    {
      "cell_type": "code",
      "source": [
        "md, md_c = ah.get_orderbook(USER_EMAIL, SIGNKEY,\n",
        "                                        instrument=instrument,\n",
        "                                        exchange=exchange,\n",
        "                                        from_time=start_time,\n",
        "                                        levels=None)"
      ],
      "metadata": {
        "id": "REmvetdnRDDB"
      },
      "execution_count": null,
      "outputs": []
    },
    {
      "cell_type": "code",
      "source": [
        "bid = md_c['bid']\n",
        "ask = md_c['ask']"
      ],
      "metadata": {
        "id": "dBZLCbU9HlI3"
      },
      "execution_count": null,
      "outputs": []
    },
    {
      "cell_type": "code",
      "source": [
        "fig = make_subplots(specs=[[{\"secondary_y\": True}]])\n",
        "\n",
        "fig.add_trace(\n",
        "    go.Scatter(x=bid['price'], y=bid['size'], name=\"bid\", fill='tozeroy'),\n",
        "    secondary_y=False,\n",
        ")\n",
        "\n",
        "fig.add_trace(\n",
        "    go.Scatter(x=ask['price'], y=ask['size'], name=\"ask\", fill='tozeroy'),\n",
        "    secondary_y=False,\n",
        ")\n",
        "\n",
        "\n",
        "\n",
        "fig.update_layout(\n",
        "    title = f\"{exchange} : {instrument} Market Depth at {start_time}\",\n",
        "    autosize=False,\n",
        "    width=1200,\n",
        "    height=600,\n",
        "    template=plotly_theme,\n",
        "    margin=dict(\n",
        "        l=10,\n",
        "        r=10,\n",
        "        b=10,\n",
        "        t=35,\n",
        "        pad=4\n",
        "    ),\n",
        "    xaxis_rangeslider_visible=False,\n",
        ")\n",
        "fig.update_xaxes(title_text=\"<b>Price Level</b>\")\n",
        "fig.update_yaxes(title_text=\"<b>Size</b>\", secondary_y=False)\n",
        "\n",
        "fig.show()"
      ],
      "metadata": {
        "id": "bJqU6JycOvi5"
      },
      "execution_count": null,
      "outputs": []
    },
    {
      "cell_type": "code",
      "source": [
        "ask"
      ],
      "metadata": {
        "id": "f6zLnY0tIPiq"
      },
      "execution_count": null,
      "outputs": []
    },
    {
      "cell_type": "code",
      "source": [
        "res = ah.get_orderbook(USER_EMAIL, SIGNKEY,\n",
        "                                        instrument=instrument,\n",
        "                                        exchange=exchange,\n",
        "                                        from_time=start_time,\n",
        "                                        levels=None, snapshot=True)\n",
        "s = res['snapshot'] "
      ],
      "metadata": {
        "id": "3QDAweTpjY75"
      },
      "execution_count": null,
      "outputs": []
    },
    {
      "cell_type": "code",
      "source": [
        "s"
      ],
      "metadata": {
        "id": "J9QMR5Iz6ZOM"
      },
      "execution_count": null,
      "outputs": []
    },
    {
      "cell_type": "markdown",
      "source": [
        "# Streaming"
      ],
      "metadata": {
        "id": "hLT2gq864OlY"
      }
    },
    {
      "cell_type": "code",
      "source": [
        "USER_EMAIL = 'tarasryb@gmail.com'\n",
        "SIGNKEY = '9566c74d10037c4d7bbb0407d1e2c649'\n",
        "\n",
        "exchange = 'binance/f'\n",
        "instrument = 'LITUSDT'  #'BTCUSDT'#'ETHUSDT'\n"
      ],
      "metadata": {
        "id": "VdbvVKg24d_B"
      },
      "execution_count": null,
      "outputs": []
    },
    {
      "cell_type": "code",
      "source": [
        "def on_trade_fn(trade):\n",
        "    print('>>> Got trade:\\n', trade)\n",
        "\n",
        "\n",
        "def on_order_fn(order):\n",
        "    print('\\n>>> Got order:\\n', order.info())\n",
        "\n",
        "\n",
        "def on_error_fn(error: Exception):\n",
        "    # print(traceback.format_exc())\n",
        "    print('>>> Got error: ', error)\n"
      ],
      "metadata": {
        "id": "sSNMP2GHdkso"
      },
      "execution_count": null,
      "outputs": []
    },
    {
      "cell_type": "code",
      "source": [
        "ah.get_stream(USER_EMAIL, SIGNKEY,\n",
        "              exchange=exchange,\n",
        "              instrument=instrument,\n",
        "              on_trade=on_trade_fn,\n",
        "              # on_order=on_order_fn,\n",
        "              on_error=on_error_fn)\n"
      ],
      "metadata": {
        "id": "vNW5jGgEdWfi"
      },
      "execution_count": null,
      "outputs": []
    }
  ]
}