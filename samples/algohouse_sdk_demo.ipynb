{
  "cells": [
    {
      "cell_type": "markdown",
      "metadata": {
        "colab_type": "text",
        "id": "view-in-github"
      },
      "source": [
        "<a href=\"https://colab.research.google.com/github/tarasryb/algohouse_sdk/blob/master/samples/algohouse_sdk_demo.ipynb\" target=\"_parent\"><img src=\"https://colab.research.google.com/assets/colab-badge.svg\" alt=\"Open In Colab\"/></a>"
      ]
    },
    {
      "cell_type": "code",
      "execution_count": null,
      "metadata": {
        "collapsed": true,
        "id": "kCwTYkgaPdbC"
      },
      "outputs": [],
      "source": [
        "!git clone https://github.com/tarasryb/algohouse_sdk.git"
      ]
    },
    {
      "cell_type": "code",
      "execution_count": 4,
      "metadata": {},
      "outputs": [
        {
          "name": "stdout",
          "output_type": "stream",
          "text": [
            "Python 3.7.15\n"
          ]
        }
      ],
      "source": [
        "!python --version"
      ]
    },
    {
      "cell_type": "code",
      "execution_count": null,
      "metadata": {
        "id": "AgVyyTtRQkPu"
      },
      "outputs": [],
      "source": [
        "!wget https://launchpad.net/~mario-mariomedina/+archive/ubuntu/talib/+files/libta-lib0_0.4.0-oneiric1_amd64.deb -qO libta.deb\n",
        "!wget https://launchpad.net/~mario-mariomedina/+archive/ubuntu/talib/+files/ta-lib0-dev_0.4.0-oneiric1_amd64.deb -qO ta.deb\n",
        "!dpkg -i libta.deb ta.deb\n",
        "!pip install ta-lib"
      ]
    },
    {
      "cell_type": "code",
      "execution_count": null,
      "metadata": {
        "id": "Q18c5sqhOxR3"
      },
      "outputs": [],
      "source": [
        "# !wget http://prdownloads.sourceforge.net/ta-lib/ta-lib-0.4.0-src.tar.gz \n",
        "# !tar xvzf ta-lib-0.4.0-src.tar.gz\n",
        "# import os\n",
        "# os.chdir('ta-lib') # Can't use !cd in co-lab\n",
        "# !./configure --prefix=/usr\n",
        "# !make\n",
        "# !make install\n",
        "# os.chdir('../')\n",
        "# !pip install TA-Lib\n"
      ]
    },
    {
      "cell_type": "code",
      "execution_count": 4,
      "metadata": {
        "id": "WT4IxSNoP9RK"
      },
      "outputs": [
        {
          "ename": "ModuleNotFoundError",
          "evalue": "No module named 'plotly'",
          "output_type": "error",
          "traceback": [
            "\u001b[1;31m---------------------------------------------------------------------------\u001b[0m",
            "\u001b[1;31mModuleNotFoundError\u001b[0m                       Traceback (most recent call last)",
            "Cell \u001b[1;32mIn[4], line 1\u001b[0m\n\u001b[1;32m----> 1\u001b[0m \u001b[38;5;28;01mimport\u001b[39;00m \u001b[38;5;21;01mplotly\u001b[39;00m\u001b[38;5;21;01m.\u001b[39;00m\u001b[38;5;21;01mgraph_objects\u001b[39;00m \u001b[38;5;28;01mas\u001b[39;00m \u001b[38;5;21;01mgo\u001b[39;00m\n\u001b[0;32m      2\u001b[0m \u001b[38;5;28;01mfrom\u001b[39;00m \u001b[38;5;21;01mplotly\u001b[39;00m\u001b[38;5;21;01m.\u001b[39;00m\u001b[38;5;21;01msubplots\u001b[39;00m \u001b[38;5;28;01mimport\u001b[39;00m make_subplots\n\u001b[0;32m      3\u001b[0m \u001b[38;5;28;01mimport\u001b[39;00m \u001b[38;5;21;01mplotly\u001b[39;00m\u001b[38;5;21;01m.\u001b[39;00m\u001b[38;5;21;01mexpress\u001b[39;00m \u001b[38;5;28;01mas\u001b[39;00m \u001b[38;5;21;01mpx\u001b[39;00m\n",
            "\u001b[1;31mModuleNotFoundError\u001b[0m: No module named 'plotly'"
          ]
        }
      ],
      "source": [
        "import plotly.graph_objects as go\n",
        "from plotly.subplots import make_subplots\n",
        "import plotly.express as px\n",
        "\n",
        "import matplotlib.pyplot as plt\n",
        "from matplotlib.dates import DateFormatter\n",
        "import talib as ta\n",
        "import pandas as pd\n",
        "import requests\n",
        "\n",
        "import sys\n",
        "sys.path.append(\"algohouse_sdk\")\n",
        "import algohouse as ah\n",
        "import ah_settings as ahs"
      ]
    },
    {
      "cell_type": "markdown",
      "metadata": {
        "id": "xMDwFj0gsFzW"
      },
      "source": [
        "# Settings"
      ]
    },
    {
      "cell_type": "code",
      "execution_count": 3,
      "metadata": {
        "id": "tqraD8unb8x6"
      },
      "outputs": [],
      "source": [
        "USER_EMAIL = 'tarasryb@gmail.com'\n",
        "SIGNKEY = '9566c74d10037c4d7bbb0407d1e2c649'\n",
        "\n",
        "exchange = 'binance/f'\n",
        "instrument = 'APEBUSD'  #'1000LUNCBUSD'\n",
        "start_time = '2022-11-01T00:00:00'\n",
        "end_time = '2022-12-30T23:00:00'\n",
        "\n",
        "plotly_theme = \"plotly_dark\"  # \"plotly_white\"\n"
      ]
    },
    {
      "cell_type": "markdown",
      "metadata": {
        "id": "bxmp5oL_seNE"
      },
      "source": [
        "# Reference Data"
      ]
    },
    {
      "cell_type": "code",
      "execution_count": null,
      "metadata": {
        "collapsed": true,
        "id": "7UuiDL0dOHy2"
      },
      "outputs": [],
      "source": [
        "ref_data = ah.get_reference_data()\n",
        "ref_data.head(100)"
      ]
    },
    {
      "cell_type": "code",
      "execution_count": null,
      "metadata": {
        "id": "qUQPJ47mT1FE"
      },
      "outputs": [],
      "source": [
        "bnc_ref = ref_data.loc[ref_data['exchange'] == 'binance/f']\n",
        "(bnc_ref['instruments'].values)"
      ]
    },
    {
      "cell_type": "markdown",
      "metadata": {
        "id": "_tFWkGGasY7s"
      },
      "source": [
        "# Trades Without Aggregation"
      ]
    },
    {
      "cell_type": "code",
      "execution_count": null,
      "metadata": {
        "id": "pCSfnoLLakJg"
      },
      "outputs": [],
      "source": [
        "trades = ah.get_trades(USER_EMAIL, SIGNKEY,\n",
        "                                        instrument=instrument,\n",
        "                                        exchange=exchange,\n",
        "                                        from_time=start_time,\n",
        "                                        to_time=end_time)\n",
        "trades = trades.loc[trades['bs'] == 'S']\n",
        "trades.tail(100)"
      ]
    },
    {
      "cell_type": "code",
      "execution_count": null,
      "metadata": {
        "id": "nmKiM--Dqyx4"
      },
      "outputs": [],
      "source": [
        "fig = make_subplots(specs=[[{\"secondary_y\": True}]])\n",
        "\n",
        "fig.add_trace(\n",
        "    go.Scatter(x=trades['ts'], y=trades['price'], name=\"price\"),\n",
        "    secondary_y=False,\n",
        ")\n",
        "\n",
        "fig.add_trace(\n",
        "    go.Scatter(x=trades['ts'], y=trades['volume'], name=\"volume\"),\n",
        "    secondary_y=True,\n",
        ")\n",
        "\n",
        "fig.update_layout(\n",
        "    title = f\"{instrument} Price & Volume\",\n",
        "    autosize=False,\n",
        "    width=1200,\n",
        "    height=600,\n",
        "    template=plotly_theme,\n",
        "    margin=dict(\n",
        "        l=10,\n",
        "        r=10,\n",
        "        b=10,\n",
        "        t=35,\n",
        "        pad=4\n",
        "    ),\n",
        "    xaxis_rangeslider_visible=False,\n",
        ")\n",
        "fig.update_xaxes(title_text=\"<b>time</b>\")\n",
        "fig.update_yaxes(title_text=\"<b>price</b>\", secondary_y=False)\n",
        "fig.update_yaxes(title_text=\"<b>volume</b>\", secondary_y=True)\n",
        "\n",
        "fig.show()"
      ]
    },
    {
      "cell_type": "markdown",
      "metadata": {
        "id": "gWYT5ChXsKXk"
      },
      "source": [
        "# Aggregated Trades"
      ]
    },
    {
      "cell_type": "code",
      "execution_count": null,
      "metadata": {
        "id": "sfx1Cw5SWyE6"
      },
      "outputs": [],
      "source": [
        "trades_a = ah.get_trades_aggregated(USER_EMAIL, SIGNKEY,\n",
        "                                        instrument=instrument,\n",
        "                                        exchange=exchange,\n",
        "                                        from_time=start_time,\n",
        "                                        to_time=end_time,\n",
        "                                        aggregation='1d')\n",
        "trades_a.head(1000)"
      ]
    },
    {
      "cell_type": "code",
      "execution_count": null,
      "metadata": {
        "id": "_V-0pdo3YBOF"
      },
      "outputs": [],
      "source": [
        "fig = go.Figure(data=[\n",
        "    go.Candlestick(x=trades_a['ts'],\n",
        "                open=trades_a['open'],\n",
        "                high=trades_a['high'],\n",
        "                low=trades_a['low'],\n",
        "                close=trades_a['close'], name=\"OCHL price\")\n",
        "    ])\n",
        "fig.update_layout(\n",
        "    title = f\"{instrument} Price\",\n",
        "    autosize=False,\n",
        "    width=1200,\n",
        "    height=600,\n",
        "    template=plotly_theme,\n",
        "    margin=dict(\n",
        "        l=10,\n",
        "        r=10,\n",
        "        b=10,\n",
        "        t=35,\n",
        "        pad=4\n",
        "    ),\n",
        "    xaxis_rangeslider_visible=False\n",
        ")\n",
        "\n",
        "fig.show()\n"
      ]
    },
    {
      "cell_type": "markdown",
      "metadata": {
        "id": "sv1lZ9tVy81g"
      },
      "source": [
        "# Technical Analysis"
      ]
    },
    {
      "cell_type": "markdown",
      "metadata": {
        "id": "rxXZ-vslQiyg"
      },
      "source": [
        "## Volume Indicators"
      ]
    },
    {
      "cell_type": "markdown",
      "metadata": {
        "id": "HXczCPPOTYsE"
      },
      "source": [
        "### Get Data"
      ]
    },
    {
      "cell_type": "code",
      "execution_count": null,
      "metadata": {
        "id": "m7khpE4lymiX"
      },
      "outputs": [],
      "source": [
        "window_start = '2022-11-20T00:00:00'\n",
        "window_end = '2022-12-01T00:00:00'\n",
        "df = ah.get_trades_aggregated(USER_EMAIL, SIGNKEY,\n",
        "                                        instrument=instrument,\n",
        "                                        exchange=exchange,\n",
        "                                        from_time=window_start,\n",
        "                                        to_time=window_end,\n",
        "                                        aggregation='1d')\n"
      ]
    },
    {
      "cell_type": "code",
      "execution_count": null,
      "metadata": {
        "id": "wU0BBJg01qHQ"
      },
      "outputs": [],
      "source": [
        "ver_window_start = '2022-12-01T00:00:00'\n",
        "ver_window_end = '2022-12-12T00:00:00'\n",
        "ver_df = ah.get_trades_aggregated(USER_EMAIL, SIGNKEY,\n",
        "                                        instrument=instrument,\n",
        "                                        exchange=exchange,\n",
        "                                        from_time=ver_window_start,\n",
        "                                        to_time=ver_window_end,\n",
        "                                        aggregation='1d')\n"
      ]
    },
    {
      "cell_type": "code",
      "execution_count": null,
      "metadata": {
        "id": "N0kIptQszDf4"
      },
      "outputs": [],
      "source": [
        "open = df['open']\n",
        "high = df['high']\n",
        "low = df['low']\n",
        "close = df['close']\n",
        "volume = df['volume']\n"
      ]
    },
    {
      "cell_type": "markdown",
      "metadata": {
        "id": "QC0r3Fwv5UwT"
      },
      "source": [
        "### [AD - Chaikin A/D Line](https://www.investopedia.com/articles/trading/08/accumulation-distribution-line.asp)\n"
      ]
    },
    {
      "cell_type": "code",
      "execution_count": null,
      "metadata": {
        "id": "i3zWbp1s5S-P"
      },
      "outputs": [],
      "source": [
        "ad = ta.AD(high, low, close, volume)\n",
        "print(ad)"
      ]
    },
    {
      "cell_type": "code",
      "execution_count": null,
      "metadata": {
        "id": "3rJ8IjCb1B9M"
      },
      "outputs": [],
      "source": [
        "fig = make_subplots(specs=[[{\"secondary_y\": True}]])\n",
        "\n",
        "fig.add_trace(\n",
        "    go.Scatter(x=df['ts'], y=df['volume'], name=\"volume\"),\n",
        "    secondary_y=False,\n",
        ")\n",
        "\n",
        "fig.add_trace(\n",
        "    go.Scatter(x=ver_df['ts'], y=ver_df['volume'], name=\"verification volume\"),\n",
        "    secondary_y=False,\n",
        ")\n",
        "\n",
        "fig.add_trace(\n",
        "    go.Scatter(x=ver_df['ts'], y=ad, name=\"AD volume\"),\n",
        "    secondary_y=False,\n",
        ")\n",
        "\n",
        "fig.update_layout(\n",
        "    title = f\"{instrument} Chaikin A/D Line\",\n",
        "    autosize=False,\n",
        "    width=1200,\n",
        "    height=600,\n",
        "    template=plotly_theme,\n",
        "    margin=dict(\n",
        "        l=10,\n",
        "        r=10,\n",
        "        b=10,\n",
        "        t=35,\n",
        "        pad=4\n",
        "    ),\n",
        "    xaxis_rangeslider_visible=False,\n",
        ")\n",
        "fig.update_xaxes(title_text=\"<b>time</b>\")\n",
        "fig.update_yaxes(title_text=\"<b>volume</b>\", secondary_y=False)\n",
        "# fig.update_yaxes(title_text=\"<b>volume</b>\", secondary_y=True)\n",
        "\n",
        "fig.show()"
      ]
    },
    {
      "cell_type": "markdown",
      "metadata": {
        "id": "T1v1z7Ko6fby"
      },
      "source": [
        "### [ADOSC - Chaikin A/D Oscillator](https://www.investopedia.com/articles/active-trading/031914/understanding-chaikin-oscillator.asp)"
      ]
    },
    {
      "cell_type": "code",
      "execution_count": null,
      "metadata": {
        "id": "Dh53-iAF0Vd0"
      },
      "outputs": [],
      "source": [
        "adosc = ta.ADOSC(high, low, close, volume, fastperiod=3, slowperiod=10)\n",
        "print(adosc)"
      ]
    },
    {
      "cell_type": "code",
      "execution_count": null,
      "metadata": {
        "id": "eaKcUEBJ048K"
      },
      "outputs": [],
      "source": [
        "fig = make_subplots(specs=[[{\"secondary_y\": True}]])\n",
        "\n",
        "fig.add_trace(\n",
        "    go.Scatter(x=df['ts'], y=df['volume'], name=\"volume\"),\n",
        "    secondary_y=False,\n",
        ")\n",
        "\n",
        "fig.add_trace(\n",
        "    go.Scatter(x=ver_df['ts'], y=ver_df['volume'], name=\"verification volume\"),\n",
        "    secondary_y=False,\n",
        ")\n",
        "\n",
        "fig.add_trace(\n",
        "    go.Scatter(x=df['ts'], y=adosc, name=\"Chaikin A/D Oscillator\"),\n",
        "    secondary_y=True,\n",
        ")\n",
        "\n",
        "fig.update_layout(\n",
        "    title = f\"{instrument} Chaikin A/D Oscillator\",\n",
        "    autosize=False,\n",
        "    width=1200,\n",
        "    height=600,\n",
        "    template=plotly_theme,\n",
        "    margin=dict(\n",
        "        l=10,\n",
        "        r=10,\n",
        "        b=10,\n",
        "        t=35,\n",
        "        pad=4\n",
        "    ),\n",
        "    xaxis_rangeslider_visible=False,\n",
        ")\n",
        "fig.update_xaxes(title_text=\"<b>time</b>\")\n",
        "fig.update_yaxes(title_text=\"<b>Volume</b>\", secondary_y=False)\n",
        "fig.update_yaxes(title_text=\"<b>Chaikin A/D Oscillator</b>\", secondary_y=True)\n",
        "\n",
        "fig.show()"
      ]
    },
    {
      "cell_type": "markdown",
      "metadata": {
        "id": "ioUtZl3q8vf3"
      },
      "source": [
        "###  [OBV - On Balance Volume](https://www.investopedia.com/terms/o/onbalancevolume.asp)"
      ]
    },
    {
      "cell_type": "code",
      "execution_count": null,
      "metadata": {
        "id": "M2R1Gk4Z71Sw"
      },
      "outputs": [],
      "source": [
        "ovb = ta.OBV(close, volume)\n",
        "# print(ovb)"
      ]
    },
    {
      "cell_type": "code",
      "execution_count": null,
      "metadata": {
        "id": "cEg0K3Fa-dFV"
      },
      "outputs": [],
      "source": [
        "ver_price_df = ah.get_trades_aggregated(USER_EMAIL, SIGNKEY,\n",
        "                                        instrument=instrument,\n",
        "                                        exchange=exchange,\n",
        "                                        from_time=window_start,\n",
        "                                        to_time=ver_window_end,\n",
        "                                        aggregation='1d')\n"
      ]
    },
    {
      "cell_type": "code",
      "execution_count": null,
      "metadata": {
        "id": "0ztuclg383pq"
      },
      "outputs": [],
      "source": [
        "fig = make_subplots(specs=[[{\"secondary_y\": True}]])\n",
        "\n",
        "fig.add_trace(\n",
        "    go.Scatter(x=df['ts'], y=df['volume'], name=\"volume\"),\n",
        "    secondary_y=False,\n",
        ")\n",
        "\n",
        "# fig.add_trace(\n",
        "#     go.Scatter(x=ver_df['ts'], y=ver_df['volume'], name=\"verification volume\"),\n",
        "#     secondary_y=False,\n",
        "# )\n",
        "\n",
        "fig.add_trace(\n",
        "    go.Scatter(x=ver_price_df['ts'], y=ver_price_df['close'], name=\"verification price\"),\n",
        "    secondary_y=True,\n",
        ")\n",
        "\n",
        "fig.add_trace(\n",
        "    go.Scatter(x=df['ts'], y=ovb, name=\"OVB volume\"),\n",
        "    secondary_y=False,\n",
        ")\n",
        "\n",
        "fig.update_layout(\n",
        "    title = f\"{instrument} On Balance Volume\",\n",
        "    autosize=False,\n",
        "    width=1200,\n",
        "    height=600,\n",
        "    template=plotly_theme,\n",
        "    margin=dict(\n",
        "        l=10,\n",
        "        r=10,\n",
        "        b=10,\n",
        "        t=35,\n",
        "        pad=4\n",
        "    ),\n",
        "    xaxis_rangeslider_visible=False,\n",
        ")\n",
        "fig.update_xaxes(title_text=\"<b>time</b>\")\n",
        "fig.update_yaxes(title_text=\"<b>volume</b>\", secondary_y=False)\n",
        "fig.update_yaxes(title_text=\"<b>price</b>\", secondary_y=True)\n",
        "\n",
        "fig.show()"
      ]
    },
    {
      "cell_type": "markdown",
      "metadata": {
        "id": "MHR9XgrmS6qk"
      },
      "source": [
        "### Basic Indicators\n",
        "* [ADV - Average Daily Value Traded*](https://www.investopedia.com/terms/a/averagedailytradingvolume.asp)\n",
        "* MA - Moving Average"
      ]
    },
    {
      "cell_type": "code",
      "execution_count": null,
      "metadata": {
        "id": "vB3Oz_EJTI6i"
      },
      "outputs": [],
      "source": [
        "idc = pd.DataFrame()\n",
        "idc['ts'] = df['ts'] \n",
        "idc['volume'] = df['volume'] \n",
        "idc['ADV5d'] = df['volume'].rolling(window=5).mean().shift(1)\n",
        "idc['ADV21d'] = df['volume'].rolling(window=21).mean().shift(1)\n",
        "idc['MA1w'] = ta.MA(close, timeperiod=7, matype=0)\n",
        "idc['MA3w'] = ta.MA(close, timeperiod=7*3, matype=0)\n",
        "idc['VWAP'] = pd.Series(ta.WMA(close, timeperiod=24)) * df['volume']\n",
        "# idc.head()"
      ]
    },
    {
      "cell_type": "code",
      "execution_count": null,
      "metadata": {
        "id": "qz_X1HhsZNSn"
      },
      "outputs": [],
      "source": [
        "fig = make_subplots(specs=[[{\"secondary_y\": True}]])\n",
        "\n",
        "fig.add_trace(\n",
        "    \n",
        "    go.Candlestick(x=df['ts'],\n",
        "                open=df['open'],\n",
        "                high=df['high'],\n",
        "                low=df['low'],\n",
        "                close=df['close'], name=\"OCHL price\"),\n",
        "\n",
        "    secondary_y=False,\n",
        "\n",
        "\n",
        ")\n",
        "\n",
        "fig.add_trace(\n",
        "    go.Scatter(x=idc['ts'], y=idc['volume'], name=\"volume\", mode = 'lines'),\n",
        "    secondary_y=True,\n",
        ")\n",
        "\n",
        "fig.add_trace(\n",
        "    go.Scatter(x=idc['ts'], y=idc['ADV5d'], name=\"ADV 5d\", mode = 'lines'),\n",
        "    secondary_y=True,\n",
        ")\n",
        "\n",
        "fig.add_trace(\n",
        "    go.Scatter(x=idc['ts'], y=idc['ADV21d'], name=\"ADV 21d\", mode = 'lines'),\n",
        "    secondary_y=True,\n",
        ")\n",
        "\n",
        "fig.add_trace(\n",
        "    go.Scatter(x=idc['ts'], y=idc['MA1w'], name=\"MA 1w\", mode = 'lines+markers'),\n",
        "    secondary_y=False,\n",
        ")\n",
        "\n",
        "fig.add_trace(\n",
        "    go.Scatter(x=idc['ts'], y=idc['MA3w'], name=\"MA 3w\", mode = 'lines+markers'),\n",
        "    secondary_y=False,\n",
        ")\n",
        "\n",
        "fig.add_trace(\n",
        "    go.Scatter(x=idc['ts'], y=idc['VWAP'], name=\"VWAP\", mode = 'lines+markers'),\n",
        "    secondary_y=True,\n",
        ")\n",
        "\n",
        "fig.update_layout(\n",
        "    title = f\"{instrument} Basic Indicators\",\n",
        "    autosize=False,\n",
        "    width=1200,\n",
        "    height=600,\n",
        "    template=plotly_theme,\n",
        "    margin=dict(\n",
        "        l=10,\n",
        "        r=10,\n",
        "        b=10,\n",
        "        t=35,\n",
        "        pad=4\n",
        "    ),\n",
        "    xaxis_rangeslider_visible=False,\n",
        ")\n",
        "fig.update_xaxes(title_text=\"<b>time</b>\")\n",
        "fig.update_yaxes(title_text=\"<b>price</b>\", secondary_y=False)\n",
        "fig.update_yaxes(title_text=\"<b>ATR</b>\", secondary_y=True)\n",
        "\n",
        "fig.show()"
      ]
    },
    {
      "cell_type": "markdown",
      "metadata": {
        "id": "qnRD4pDpQOIu"
      },
      "source": [
        "## Volatility Indicators"
      ]
    },
    {
      "cell_type": "code",
      "execution_count": null,
      "metadata": {
        "id": "ZQo8qUOVHi0e"
      },
      "outputs": [],
      "source": [
        "window_start = '2022-11-01T00:00:00'\n",
        "window_end = '2022-12-12T00:00:00'\n",
        "df = ah.get_trades_aggregated(USER_EMAIL, SIGNKEY,\n",
        "                                        instrument=instrument,\n",
        "                                        exchange=exchange,\n",
        "                                        from_time=window_start,\n",
        "                                        to_time=window_end,\n",
        "                                        aggregation='1d')\n",
        "open = df['open']\n",
        "high = df['high']\n",
        "low = df['low']\n",
        "close = df['close']\n",
        "volume = df['volume']\n"
      ]
    },
    {
      "cell_type": "markdown",
      "metadata": {
        "id": "EFKu_7JbG0v2"
      },
      "source": [
        "### [ATR - Average True Range](https://www.investopedia.com/terms/a/atr.asp)"
      ]
    },
    {
      "cell_type": "code",
      "execution_count": null,
      "metadata": {
        "id": "8yuVDXFR9IzJ"
      },
      "outputs": [],
      "source": [
        "atr = ta.ATR(high, low, close, timeperiod=14)\n",
        "# print(atr)"
      ]
    },
    {
      "cell_type": "code",
      "execution_count": null,
      "metadata": {
        "id": "OBWVGRyiHPAH"
      },
      "outputs": [],
      "source": [
        "fig = make_subplots(specs=[[{\"secondary_y\": True}]])\n",
        "\n",
        "fig.add_trace(\n",
        "    \n",
        "    # go.Scatter(x=df['ts'], y=df['close'], name=\"volume\"),\n",
        "\n",
        "    go.Candlestick(x=trades_a['ts'],\n",
        "                open=trades_a['open'],\n",
        "                high=trades_a['high'],\n",
        "                low=trades_a['low'],\n",
        "                close=trades_a['close'], name=\"OCHL price\"),\n",
        "\n",
        "    secondary_y=False,\n",
        "\n",
        "\n",
        ")\n",
        "\n",
        "fig.add_trace(\n",
        "    go.Scatter(x=df['ts'], y=atr, name=\"ATR\", mode = 'lines+markers'),\n",
        "    secondary_y=True,\n",
        ")\n",
        "\n",
        "\n",
        "fig.update_layout(\n",
        "    title = f\"{instrument} Average True Range Indicator\",\n",
        "    autosize=False,\n",
        "    width=1200,\n",
        "    height=600,\n",
        "    template=plotly_theme,\n",
        "    margin=dict(\n",
        "        l=10,\n",
        "        r=10,\n",
        "        b=10,\n",
        "        t=35,\n",
        "        pad=4\n",
        "    ),\n",
        "    xaxis_rangeslider_visible=False,\n",
        ")\n",
        "fig.update_xaxes(title_text=\"<b>time</b>\")\n",
        "fig.update_yaxes(title_text=\"<b>price</b>\", secondary_y=False)\n",
        "fig.update_yaxes(title_text=\"<b>ATR</b>\", secondary_y=True)\n",
        "\n",
        "fig.show()"
      ]
    },
    {
      "cell_type": "markdown",
      "metadata": {
        "id": "ujY8dqFEKvG_"
      },
      "source": [
        "### [NATR - Normalized Average True Range](https://support.atas.net/en/knowledge-bases/2/articles/43436-atr-normalized)"
      ]
    },
    {
      "cell_type": "code",
      "execution_count": null,
      "metadata": {
        "id": "uRzUlm4jJFFv"
      },
      "outputs": [],
      "source": [
        "natr = ta.NATR(high, low, close, timeperiod=14)\n",
        "# print(natr)"
      ]
    },
    {
      "cell_type": "code",
      "execution_count": null,
      "metadata": {
        "id": "z1MPCQ9YLYP2"
      },
      "outputs": [],
      "source": [
        "fig = make_subplots(specs=[[{\"secondary_y\": True}]])\n",
        "\n",
        "fig.add_trace(\n",
        "    \n",
        "    # go.Scatter(x=df['ts'], y=df['close'], name=\"volume\"),\n",
        "\n",
        "    go.Candlestick(x=trades_a['ts'],\n",
        "                open=trades_a['open'],\n",
        "                high=trades_a['high'],\n",
        "                low=trades_a['low'],\n",
        "                close=trades_a['close'], name=\"OCHL price\"),\n",
        "\n",
        "    secondary_y=False,\n",
        "\n",
        "\n",
        ")\n",
        "\n",
        "fig.add_trace(\n",
        "    go.Scatter(x=df['ts'], y=natr, name=\"NATR\", mode = 'lines+markers'),\n",
        "    secondary_y=True,\n",
        ")\n",
        "\n",
        "\n",
        "fig.update_layout(\n",
        "    title = f\"{instrument} Normalized Average True Range Indicator\",\n",
        "    autosize=False,\n",
        "    width=1200,\n",
        "    height=600,\n",
        "    template=plotly_theme,\n",
        "    margin=dict(\n",
        "        l=10,\n",
        "        r=10,\n",
        "        b=10,\n",
        "        t=35,\n",
        "        pad=4\n",
        "    ),\n",
        "    xaxis_rangeslider_visible=False,\n",
        ")\n",
        "fig.update_xaxes(title_text=\"<b>time</b>\")\n",
        "fig.update_yaxes(title_text=\"<b>price</b>\", secondary_y=False)\n",
        "fig.update_yaxes(title_text=\"<b>NATR</b>\", secondary_y=True)\n",
        "\n",
        "fig.show()"
      ]
    },
    {
      "cell_type": "markdown",
      "metadata": {
        "id": "eP1C3zsYL7z1"
      },
      "source": [
        "### [TRANGE - True Range](https://support.atas.net/en/knowledge-bases/2/articles/45183-true-range)"
      ]
    },
    {
      "cell_type": "code",
      "execution_count": null,
      "metadata": {
        "id": "ALO1875SLYwE"
      },
      "outputs": [],
      "source": [
        "trange = ta.TRANGE(high, low, close)\n",
        "# print(trange)"
      ]
    },
    {
      "cell_type": "code",
      "execution_count": null,
      "metadata": {
        "id": "aKn9jWHNMzFp"
      },
      "outputs": [],
      "source": [
        "fig = make_subplots(specs=[[{\"secondary_y\": True}]])\n",
        "\n",
        "fig.add_trace(\n",
        "    \n",
        "    # go.Scatter(x=df['ts'], y=df['close'], name=\"volume\"),\n",
        "\n",
        "    go.Candlestick(x=trades_a['ts'],\n",
        "                open=trades_a['open'],\n",
        "                high=trades_a['high'],\n",
        "                low=trades_a['low'],\n",
        "                close=trades_a['close'], name=\"OCHL price\"),\n",
        "\n",
        "    secondary_y=False,\n",
        "\n",
        "\n",
        ")\n",
        "\n",
        "fig.add_trace(\n",
        "    go.Scatter(x=df['ts'], y=trange, name=\"TRANGE\", mode = 'lines+markers'),\n",
        "    secondary_y=True,\n",
        ")\n",
        "\n",
        "\n",
        "fig.update_layout(\n",
        "    title = f\"{instrument} True Range Indicator\",\n",
        "    autosize=False,\n",
        "    width=1200,\n",
        "    height=600,\n",
        "    template=plotly_theme,\n",
        "    margin=dict(\n",
        "        l=10,\n",
        "        r=10,\n",
        "        b=10,\n",
        "        t=35,\n",
        "        pad=4\n",
        "    ),\n",
        "    xaxis_rangeslider_visible=False,\n",
        ")\n",
        "fig.update_xaxes(title_text=\"<b>time</b>\")\n",
        "fig.update_yaxes(title_text=\"<b>price</b>\", secondary_y=False)\n",
        "fig.update_yaxes(title_text=\"<b>TRANGE</b>\", secondary_y=True)\n",
        "\n",
        "fig.show()"
      ]
    },
    {
      "cell_type": "markdown",
      "metadata": {
        "id": "NMnOVDTLOXZq"
      },
      "source": [
        "## Price Transform Functions\n",
        "* AVGPRICE - Average Price\n",
        "* MEDPRICE - Median Price\n",
        "* TYPPRICE - Typical Price\n",
        "* WCLPRICE - Weighted Close Price\n"
      ]
    },
    {
      "cell_type": "code",
      "execution_count": null,
      "metadata": {
        "id": "pClfDUKfM_rp"
      },
      "outputs": [],
      "source": [
        "avgprice = ta.AVGPRICE(open, high, low, close)\n",
        "medprice = ta.MEDPRICE(high, low)\n",
        "typprice = ta.TYPPRICE(high, low, close)\n",
        "wclprice = ta.WCLPRICE(high, low, close)"
      ]
    },
    {
      "cell_type": "code",
      "execution_count": null,
      "metadata": {
        "id": "RSl8NOKSO8kf"
      },
      "outputs": [],
      "source": [
        "fig = make_subplots(specs=[[{\"secondary_y\": True}]])\n",
        "\n",
        "fig.add_trace(\n",
        "    \n",
        "    # go.Scatter(x=df['ts'], y=df['close'], name=\"volume\"),\n",
        "\n",
        "    go.Candlestick(x=trades_a['ts'],\n",
        "                open=trades_a['open'],\n",
        "                high=trades_a['high'],\n",
        "                low=trades_a['low'],\n",
        "                close=trades_a['close'], name=\"OCHL price\"),\n",
        "\n",
        "    secondary_y=False,\n",
        "\n",
        "\n",
        ")\n",
        "\n",
        "fig.add_trace(\n",
        "    go.Scatter(x=df['ts'], y=avgprice, name=\"AVGPRICE\", mode = 'lines+markers'),\n",
        "    secondary_y=False,\n",
        ")\n",
        "\n",
        "fig.add_trace(\n",
        "    go.Scatter(x=df['ts'], y=medprice, name=\"MEDPRICE\", mode = 'lines+markers'),\n",
        "    secondary_y=False,\n",
        ")\n",
        "\n",
        "fig.add_trace(\n",
        "    go.Scatter(x=df['ts'], y=typprice, name=\"TYPPRICE\", mode = 'lines+markers'),\n",
        "    secondary_y=False,\n",
        ")\n",
        "\n",
        "fig.add_trace(\n",
        "    go.Scatter(x=df['ts'], y=wclprice, name=\"WCLPRICE\", mode = 'lines+markers'),\n",
        "    secondary_y=False,\n",
        ")\n",
        "\n",
        "\n",
        "fig.update_layout(\n",
        "    title = f\"{instrument} Price Transform Functions\",\n",
        "    autosize=False,\n",
        "    width=1200,\n",
        "    height=600,\n",
        "    template=plotly_theme,\n",
        "    margin=dict(\n",
        "        l=10,\n",
        "        r=10,\n",
        "        b=10,\n",
        "        t=35,\n",
        "        pad=4\n",
        "    ),\n",
        "    xaxis_rangeslider_visible=False,\n",
        ")\n",
        "fig.update_xaxes(title_text=\"<b>time</b>\")\n",
        "fig.update_yaxes(title_text=\"<b>price</b>\", secondary_y=False)\n",
        "# fig.update_yaxes(title_text=\"<b>TRANGE</b>\", secondary_y=True)\n",
        "\n",
        "fig.show()"
      ]
    },
    {
      "cell_type": "code",
      "execution_count": null,
      "metadata": {
        "id": "10wxLNLDPZCP"
      },
      "outputs": [],
      "source": []
    },
    {
      "cell_type": "markdown",
      "metadata": {
        "id": "JUr65f3eQ4Ka"
      },
      "source": [
        "# Order book"
      ]
    },
    {
      "cell_type": "markdown",
      "metadata": {
        "id": "UWX5svF6Gvzb"
      },
      "source": [
        "#### Reset orderbook cache"
      ]
    },
    {
      "cell_type": "code",
      "execution_count": null,
      "metadata": {
        "id": "s7YWazjGF5Pr"
      },
      "outputs": [],
      "source": [
        "import orderbook\n",
        "orderbook.df_n_cached = None"
      ]
    },
    {
      "cell_type": "markdown",
      "metadata": {
        "id": "eaonQmzCG6tV"
      },
      "source": [
        "#### Settings"
      ]
    },
    {
      "cell_type": "code",
      "execution_count": null,
      "metadata": {
        "id": "hS7-Kwt8RYqI"
      },
      "outputs": [],
      "source": [
        "USER_EMAIL = 'tarasryb@gmail.com'\n",
        "SIGNKEY = '9566c74d10037c4d7bbb0407d1e2c649'\n",
        "\n",
        "exchange = 'binance/f'\n",
        "instrument = 'LITUSDT'  #'BTCUSDT'#'ETHUSDT'\n",
        "start_time = '2022-12-09T10:00:00'\n",
        "ahs.ORDER_LINES_TO_READ = 200\n",
        "# ahs.FILTER_BAD_PRICES = False\n",
        "\n",
        "plotly_theme = \"plotly_dark\"  # \"plotly_white\"\n"
      ]
    },
    {
      "cell_type": "markdown",
      "metadata": {
        "id": "c_uZYFRb_nw6"
      },
      "source": [
        "#### Get Orderbook Data"
      ]
    },
    {
      "cell_type": "code",
      "execution_count": null,
      "metadata": {
        "id": "REmvetdnRDDB"
      },
      "outputs": [],
      "source": [
        "md, md_c = ah.get_orderbook(USER_EMAIL, SIGNKEY,\n",
        "                                        instrument=instrument,\n",
        "                                        exchange=exchange,\n",
        "                                        from_time=start_time,\n",
        "                                        levels=None)"
      ]
    },
    {
      "cell_type": "code",
      "execution_count": null,
      "metadata": {
        "id": "dBZLCbU9HlI3"
      },
      "outputs": [],
      "source": [
        "bid = md_c['bid']\n",
        "ask = md_c['ask']"
      ]
    },
    {
      "cell_type": "code",
      "execution_count": null,
      "metadata": {
        "id": "bJqU6JycOvi5"
      },
      "outputs": [],
      "source": [
        "fig = make_subplots(specs=[[{\"secondary_y\": True}]])\n",
        "\n",
        "fig.add_trace(\n",
        "    go.Scatter(x=bid['price'], y=bid['size'], name=\"bid\", fill='tozeroy'),\n",
        "    secondary_y=False,\n",
        ")\n",
        "\n",
        "fig.add_trace(\n",
        "    go.Scatter(x=ask['price'], y=ask['size'], name=\"ask\", fill='tozeroy'),\n",
        "    secondary_y=False,\n",
        ")\n",
        "\n",
        "\n",
        "\n",
        "fig.update_layout(\n",
        "    title = f\"{exchange} : {instrument} Market Depth at {start_time}\",\n",
        "    autosize=False,\n",
        "    width=1200,\n",
        "    height=600,\n",
        "    template=plotly_theme,\n",
        "    margin=dict(\n",
        "        l=10,\n",
        "        r=10,\n",
        "        b=10,\n",
        "        t=35,\n",
        "        pad=4\n",
        "    ),\n",
        "    xaxis_rangeslider_visible=False,\n",
        ")\n",
        "fig.update_xaxes(title_text=\"<b>Price Level</b>\")\n",
        "fig.update_yaxes(title_text=\"<b>Size</b>\", secondary_y=False)\n",
        "\n",
        "fig.show()"
      ]
    },
    {
      "cell_type": "code",
      "execution_count": null,
      "metadata": {
        "id": "f6zLnY0tIPiq"
      },
      "outputs": [],
      "source": [
        "ask"
      ]
    },
    {
      "cell_type": "code",
      "execution_count": null,
      "metadata": {
        "id": "3QDAweTpjY75"
      },
      "outputs": [],
      "source": [
        "res = ah.get_orderbook(USER_EMAIL, SIGNKEY,\n",
        "                                        instrument=instrument,\n",
        "                                        exchange=exchange,\n",
        "                                        from_time=start_time,\n",
        "                                        levels=None, snapshot=True)\n",
        "s = res['snapshot'] "
      ]
    },
    {
      "cell_type": "code",
      "execution_count": null,
      "metadata": {
        "id": "J9QMR5Iz6ZOM"
      },
      "outputs": [],
      "source": [
        "s"
      ]
    },
    {
      "cell_type": "markdown",
      "metadata": {
        "id": "hLT2gq864OlY"
      },
      "source": [
        "# Streaming"
      ]
    },
    {
      "cell_type": "code",
      "execution_count": null,
      "metadata": {
        "id": "VdbvVKg24d_B"
      },
      "outputs": [],
      "source": [
        "USER_EMAIL = 'tarasryb@gmail.com'\n",
        "SIGNKEY = '9566c74d10037c4d7bbb0407d1e2c649'\n",
        "\n",
        "exchange = 'binance/f'\n",
        "instrument = 'LITUSDT'  #'BTCUSDT'#'ETHUSDT'\n"
      ]
    },
    {
      "cell_type": "code",
      "execution_count": null,
      "metadata": {
        "id": "sSNMP2GHdkso"
      },
      "outputs": [],
      "source": [
        "def on_trade_fn(trade):\n",
        "    print('>>> Got trade:\\n', trade)\n",
        "\n",
        "\n",
        "def on_order_fn(order):\n",
        "    print('\\n>>> Got order:\\n', order.info())\n",
        "\n",
        "\n",
        "def on_error_fn(error: Exception):\n",
        "    # print(traceback.format_exc())\n",
        "    print('>>> Got error: ', error)\n"
      ]
    },
    {
      "cell_type": "code",
      "execution_count": null,
      "metadata": {
        "id": "vNW5jGgEdWfi"
      },
      "outputs": [],
      "source": [
        "ah.get_stream(USER_EMAIL, SIGNKEY,\n",
        "              exchange=exchange,\n",
        "              instrument=instrument,\n",
        "              on_trade=on_trade_fn,\n",
        "              # on_order=on_order_fn,\n",
        "              on_error=on_error_fn)\n"
      ]
    }
  ],
  "metadata": {
    "colab": {
      "authorship_tag": "ABX9TyOLnNAFFnRrNQ0Pik1mOyx1",
      "include_colab_link": true,
      "provenance": [],
      "toc_visible": true
    },
    "kernelspec": {
      "display_name": "Python 3.11.0 64-bit",
      "language": "python",
      "name": "python3"
    },
    "language_info": {
      "codemirror_mode": {
        "name": "ipython",
        "version": 3
      },
      "file_extension": ".py",
      "mimetype": "text/x-python",
      "name": "python",
      "nbconvert_exporter": "python",
      "pygments_lexer": "ipython3",
      "version": "3.11.0"
    },
    "vscode": {
      "interpreter": {
        "hash": "5238573367df39f7286bb46f9ff5f08f63a01a80960060ce41e3c79b190280fa"
      }
    }
  },
  "nbformat": 4,
  "nbformat_minor": 0
}
