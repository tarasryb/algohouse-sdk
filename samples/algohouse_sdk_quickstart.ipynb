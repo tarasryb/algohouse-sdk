{
  "cells": [
    {
      "cell_type": "code",
      "execution_count": null,
      "metadata": {
        "id": "kCwTYkgaPdbC"
      },
      "outputs": [],
      "source": [
        "!git clone https://github.com/tarasryb/algohouse_sdk.git"
      ]
    },
    {
      "cell_type": "code",
      "execution_count": 1,
      "metadata": {
        "id": "WT4IxSNoP9RK"
      },
      "outputs": [],
      "source": [
        "import sys\n",
        "sys.path.append(\"algohouse_sdk\")\n",
        "import algohouse as ah"
      ]
    },
    {
      "cell_type": "markdown",
      "metadata": {
        "id": "bxmp5oL_seNE"
      },
      "source": [
        "# Reference Data"
      ]
    },
    {
      "cell_type": "code",
      "execution_count": 9,
      "metadata": {
        "id": "7UuiDL0dOHy2"
      },
      "outputs": [
        {
          "data": {
            "text/html": [
              "<div>\n",
              "<style scoped>\n",
              "    .dataframe tbody tr th:only-of-type {\n",
              "        vertical-align: middle;\n",
              "    }\n",
              "\n",
              "    .dataframe tbody tr th {\n",
              "        vertical-align: top;\n",
              "    }\n",
              "\n",
              "    .dataframe thead th {\n",
              "        text-align: right;\n",
              "    }\n",
              "</style>\n",
              "<table border=\"1\" class=\"dataframe\">\n",
              "  <thead>\n",
              "    <tr style=\"text-align: right;\">\n",
              "      <th></th>\n",
              "      <th>exchange</th>\n",
              "      <th>instruments</th>\n",
              "    </tr>\n",
              "  </thead>\n",
              "  <tbody>\n",
              "    <tr>\n",
              "      <th>0</th>\n",
              "      <td>binance</td>\n",
              "      <td>[AAVEBNB, ADABNB, ALGOBNB, ALICEBNB, ALPHABNB,...</td>\n",
              "    </tr>\n",
              "    <tr>\n",
              "      <th>1</th>\n",
              "      <td>binance2</td>\n",
              "      <td>[AAVEBNB, ADABNB, ALGOBNB, ALICEBNB, ALPHABNB,...</td>\n",
              "    </tr>\n",
              "    <tr>\n",
              "      <th>2</th>\n",
              "      <td>binance/f</td>\n",
              "      <td>[BNBBUSD, BNBUSDT]</td>\n",
              "    </tr>\n",
              "    <tr>\n",
              "      <th>3</th>\n",
              "      <td>binance/o</td>\n",
              "      <td>[BNB-221230-220-C, BNB-221230-220-P, BNB-22123...</td>\n",
              "    </tr>\n",
              "  </tbody>\n",
              "</table>\n",
              "</div>"
            ],
            "text/plain": [
              "    exchange                                        instruments\n",
              "0    binance  [AAVEBNB, ADABNB, ALGOBNB, ALICEBNB, ALPHABNB,...\n",
              "1   binance2  [AAVEBNB, ADABNB, ALGOBNB, ALICEBNB, ALPHABNB,...\n",
              "2  binance/f                                 [BNBBUSD, BNBUSDT]\n",
              "3  binance/o  [BNB-221230-220-C, BNB-221230-220-P, BNB-22123..."
            ]
          },
          "execution_count": 9,
          "metadata": {},
          "output_type": "execute_result"
        }
      ],
      "source": [
        "# ref_data = ah.get_reference_data()\n",
        "ref_data = ah.get_reference_data_v2(exchange='binance', instrument='BNB')  # , instrument='btc', instrument2='usdt'\n",
        "\n",
        "ref_data.head(100)"
      ]
    },
    {
      "cell_type": "markdown",
      "metadata": {
        "id": "xMDwFj0gsFzW"
      },
      "source": [
        "# Settings"
      ]
    },
    {
      "cell_type": "code",
      "execution_count": null,
      "metadata": {
        "id": "tqraD8unb8x6"
      },
      "outputs": [],
      "source": [
        "USER_EMAIL = 'vyklyuk@ukr.net'\n",
        "SIGNKEY = '81855ad8681d0d86d1e91e00167939cb'\n",
        "\n",
        "exchange = 'binance/f'\n",
        "instrument = 'APEBUSD'  #'1000LUNCBUSD'\n",
        "start_time = '2022-11-01T00:00:00'\n",
        "end_time = '2022-12-30T23:00:00'\n"
      ]
    },
    {
      "cell_type": "markdown",
      "metadata": {
        "id": "_tFWkGGasY7s"
      },
      "source": [
        "# Trades Without Aggregation"
      ]
    },
    {
      "cell_type": "code",
      "execution_count": null,
      "metadata": {
        "id": "pCSfnoLLakJg"
      },
      "outputs": [],
      "source": [
        "trades = ah.get_trades(USER_EMAIL, SIGNKEY,\n",
        "                                        instrument=instrument,\n",
        "                                        exchange=exchange,\n",
        "                                        from_time=start_time,\n",
        "                                        to_time=end_time)\n",
        "trades = trades.loc[trades['bs'] == 'S']\n",
        "trades.tail(100)"
      ]
    },
    {
      "cell_type": "markdown",
      "metadata": {
        "id": "gWYT5ChXsKXk"
      },
      "source": [
        "# Aggregated Trades"
      ]
    },
    {
      "cell_type": "code",
      "execution_count": null,
      "metadata": {
        "id": "sfx1Cw5SWyE6"
      },
      "outputs": [],
      "source": [
        "trades_a = ah.get_trades_aggregated(USER_EMAIL, SIGNKEY,\n",
        "                                        instrument=instrument,\n",
        "                                        exchange=exchange,\n",
        "                                        from_time=start_time,\n",
        "                                        to_time=end_time,\n",
        "                                        aggregation='1d')\n",
        "trades_a.head(1000)"
      ]
    },
    {
      "cell_type": "code",
      "execution_count": null,
      "metadata": {
        "id": "8yuVDXFR9IzJ"
      },
      "outputs": [],
      "source": []
    }
  ],
  "metadata": {
    "colab": {
      "provenance": [],
      "toc_visible": true
    },
    "kernelspec": {
      "display_name": "Python 3 (ipykernel)",
      "language": "python",
      "name": "python3"
    },
    "language_info": {
      "codemirror_mode": {
        "name": "ipython",
        "version": 3
      },
      "file_extension": ".py",
      "mimetype": "text/x-python",
      "name": "python",
      "nbconvert_exporter": "python",
      "pygments_lexer": "ipython3",
      "version": "3.11.0"
    },
    "vscode": {
      "interpreter": {
        "hash": "5238573367df39f7286bb46f9ff5f08f63a01a80960060ce41e3c79b190280fa"
      }
    }
  },
  "nbformat": 4,
  "nbformat_minor": 0
}
