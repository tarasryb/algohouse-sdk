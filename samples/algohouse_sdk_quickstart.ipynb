{
  "nbformat": 4,
  "nbformat_minor": 0,
  "metadata": {
    "colab": {
      "provenance": [],
      "toc_visible": true
    },
    "kernelspec": {
      "name": "python3",
      "display_name": "Python 3"
    },
    "language_info": {
      "name": "python"
    }
  },
  "cells": [
    {
      "cell_type": "code",
      "source": [
        "!git clone https://github.com/tarasryb/algohouse_sdk.git"
      ],
      "metadata": {
        "id": "kCwTYkgaPdbC"
      },
      "execution_count": null,
      "outputs": []
    },
    {
      "cell_type": "code",
      "source": [
        "import algohouse_sdk.algohouse as ah"
      ],
      "metadata": {
        "id": "WT4IxSNoP9RK"
      },
      "execution_count": null,
      "outputs": []
    },
    {
      "cell_type": "markdown",
      "source": [
        "# Reference Data"
      ],
      "metadata": {
        "id": "bxmp5oL_seNE"
      }
    },
    {
      "cell_type": "code",
      "source": [
        "ref_data = ah.get_reference_data()\n",
        "ref_data.head(100)"
      ],
      "metadata": {
        "id": "7UuiDL0dOHy2"
      },
      "execution_count": null,
      "outputs": []
    },
    {
      "cell_type": "markdown",
      "source": [
        "# Settings"
      ],
      "metadata": {
        "id": "xMDwFj0gsFzW"
      }
    },
    {
      "cell_type": "code",
      "source": [
        "USER_EMAIL = 'vyklyuk@ukr.net'\n",
        "SIGNKEY = '81855ad8681d0d86d1e91e00167939cb'\n",
        "\n",
        "exchange = 'binance/f'\n",
        "instrument = 'APEBUSD'  #'1000LUNCBUSD'\n",
        "start_time = '2022-11-01T00:00:00'\n",
        "end_time = '2022-12-30T23:00:00'\n"
      ],
      "metadata": {
        "id": "tqraD8unb8x6"
      },
      "execution_count": null,
      "outputs": []
    },
    {
      "cell_type": "markdown",
      "source": [
        "# Trades Without Aggregation"
      ],
      "metadata": {
        "id": "_tFWkGGasY7s"
      }
    },
    {
      "cell_type": "code",
      "source": [
        "trades = ah.get_trades(USER_EMAIL, SIGNKEY,\n",
        "                                        instrument=instrument,\n",
        "                                        exchange=exchange,\n",
        "                                        from_time=start_time,\n",
        "                                        to_time=end_time)\n",
        "trades = trades.loc[trades['bs'] == 'S']\n",
        "trades.tail(100)"
      ],
      "metadata": {
        "id": "pCSfnoLLakJg"
      },
      "execution_count": null,
      "outputs": []
    },
    {
      "cell_type": "markdown",
      "source": [
        "# Aggregated Trades"
      ],
      "metadata": {
        "id": "gWYT5ChXsKXk"
      }
    },
    {
      "cell_type": "code",
      "source": [
        "trades_a = ah.get_trades_aggregated(USER_EMAIL, SIGNKEY,\n",
        "                                        instrument=instrument,\n",
        "                                        exchange=exchange,\n",
        "                                        from_time=start_time,\n",
        "                                        to_time=end_time,\n",
        "                                        aggregation='1d')\n",
        "trades_a.head(1000)"
      ],
      "metadata": {
        "id": "sfx1Cw5SWyE6"
      },
      "execution_count": null,
      "outputs": []
    },
    {
      "cell_type": "code",
      "source": [],
      "metadata": {
        "id": "8yuVDXFR9IzJ"
      },
      "execution_count": null,
      "outputs": []
    }
  ]
}